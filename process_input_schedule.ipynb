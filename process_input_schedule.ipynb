{
 "cells": [
  {
   "cell_type": "markdown",
   "metadata": {},
   "source": [
    "Thực hiện tiền xử lý trên thời khóa biểu chính thức của HUST (kỳ 2022.1), trước hết bằng cách loại những cột \"Kỳ\", \"Mã lớp kèm\", \"Tên HP\" (tiếng Việt), \"Ghi chú\", \"Tuần\", \"SLĐK\", \"Trạng thái\", và \"Mã QL\" (8 cột). Như vậy, từ 24 cột ban đầu, còn lại 16 cột, như kết quả phía dưới. Các tên cột, và các tên tiếng Việt khác được chuyển sang tiếng Anh"
   ]
  },
  {
   "cell_type": "code",
   "execution_count": 1,
   "metadata": {},
   "outputs": [
    {
     "data": {
      "text/html": [
       "<div>\n",
       "<style scoped>\n",
       "    .dataframe tbody tr th:only-of-type {\n",
       "        vertical-align: middle;\n",
       "    }\n",
       "\n",
       "    .dataframe tbody tr th {\n",
       "        vertical-align: top;\n",
       "    }\n",
       "\n",
       "    .dataframe thead th {\n",
       "        text-align: right;\n",
       "    }\n",
       "</style>\n",
       "<table border=\"1\" class=\"dataframe\">\n",
       "  <thead>\n",
       "    <tr style=\"text-align: right;\">\n",
       "      <th></th>\n",
       "      <th>Faculty</th>\n",
       "      <th>Class ID</th>\n",
       "      <th>Course ID</th>\n",
       "      <th>Course Name</th>\n",
       "      <th>Credits</th>\n",
       "      <th>Session no.</th>\n",
       "      <th>Day</th>\n",
       "      <th>Time</th>\n",
       "      <th>Start</th>\n",
       "      <th>End</th>\n",
       "      <th>Shift</th>\n",
       "      <th>Classroom</th>\n",
       "      <th>Requires Practical</th>\n",
       "      <th>Num. Students</th>\n",
       "      <th>Class Type</th>\n",
       "      <th>Semester</th>\n",
       "    </tr>\n",
       "  </thead>\n",
       "  <tbody>\n",
       "    <tr>\n",
       "      <th>0</th>\n",
       "      <td>TDDT</td>\n",
       "      <td>137978</td>\n",
       "      <td>AC2010</td>\n",
       "      <td>Programming Techniques</td>\n",
       "      <td>2(2-1-0-4)</td>\n",
       "      <td>1.0</td>\n",
       "      <td>2.0</td>\n",
       "      <td>0920-1145</td>\n",
       "      <td>4.0</td>\n",
       "      <td>6.0</td>\n",
       "      <td>Morning</td>\n",
       "      <td>TC-211</td>\n",
       "      <td>NaN</td>\n",
       "      <td>75</td>\n",
       "      <td>LT+BT</td>\n",
       "      <td>AB</td>\n",
       "    </tr>\n",
       "    <tr>\n",
       "      <th>1</th>\n",
       "      <td>TDDT</td>\n",
       "      <td>137982</td>\n",
       "      <td>AC2020</td>\n",
       "      <td>Computer Graphic in 2D and 3D images</td>\n",
       "      <td>3(3-1-0-6)</td>\n",
       "      <td>1.0</td>\n",
       "      <td>4.0</td>\n",
       "      <td>0645-1005</td>\n",
       "      <td>1.0</td>\n",
       "      <td>4.0</td>\n",
       "      <td>Morning</td>\n",
       "      <td>D5-403</td>\n",
       "      <td>NaN</td>\n",
       "      <td>75</td>\n",
       "      <td>LT+BT</td>\n",
       "      <td>AB</td>\n",
       "    </tr>\n",
       "    <tr>\n",
       "      <th>2</th>\n",
       "      <td>TDDT</td>\n",
       "      <td>137983</td>\n",
       "      <td>AC2040</td>\n",
       "      <td>Database</td>\n",
       "      <td>2(2-1-0-4)</td>\n",
       "      <td>1.0</td>\n",
       "      <td>3.0</td>\n",
       "      <td>0920-1145</td>\n",
       "      <td>4.0</td>\n",
       "      <td>6.0</td>\n",
       "      <td>Morning</td>\n",
       "      <td>D5-403</td>\n",
       "      <td>NaN</td>\n",
       "      <td>75</td>\n",
       "      <td>LT+BT</td>\n",
       "      <td>AB</td>\n",
       "    </tr>\n",
       "    <tr>\n",
       "      <th>3</th>\n",
       "      <td>TDDT</td>\n",
       "      <td>137984</td>\n",
       "      <td>AC2050</td>\n",
       "      <td>Data Structure and Algorithm</td>\n",
       "      <td>2(2-1-0-4)</td>\n",
       "      <td>1.0</td>\n",
       "      <td>3.0</td>\n",
       "      <td>0645-0910</td>\n",
       "      <td>1.0</td>\n",
       "      <td>3.0</td>\n",
       "      <td>Morning</td>\n",
       "      <td>D5-403</td>\n",
       "      <td>NaN</td>\n",
       "      <td>75</td>\n",
       "      <td>LT+BT</td>\n",
       "      <td>AB</td>\n",
       "    </tr>\n",
       "    <tr>\n",
       "      <th>4</th>\n",
       "      <td>TDDT</td>\n",
       "      <td>137987</td>\n",
       "      <td>AC3010</td>\n",
       "      <td>System Analysis and Design</td>\n",
       "      <td>2(2-1-0-4)</td>\n",
       "      <td>1.0</td>\n",
       "      <td>3.0</td>\n",
       "      <td>1505-1730</td>\n",
       "      <td>4.0</td>\n",
       "      <td>6.0</td>\n",
       "      <td>Afternoon</td>\n",
       "      <td>D8-103</td>\n",
       "      <td>NaN</td>\n",
       "      <td>40</td>\n",
       "      <td>LT+BT</td>\n",
       "      <td>AB</td>\n",
       "    </tr>\n",
       "  </tbody>\n",
       "</table>\n",
       "</div>"
      ],
      "text/plain": [
       "  Faculty  Class ID Course ID                           Course Name  \\\n",
       "0    TDDT    137978    AC2010                Programming Techniques   \n",
       "1    TDDT    137982    AC2020  Computer Graphic in 2D and 3D images   \n",
       "2    TDDT    137983    AC2040                              Database   \n",
       "3    TDDT    137984    AC2050          Data Structure and Algorithm   \n",
       "4    TDDT    137987    AC3010            System Analysis and Design   \n",
       "\n",
       "      Credits  Session no.  Day       Time  Start  End      Shift Classroom  \\\n",
       "0  2(2-1-0-4)          1.0  2.0  0920-1145    4.0  6.0    Morning    TC-211   \n",
       "1  3(3-1-0-6)          1.0  4.0  0645-1005    1.0  4.0    Morning    D5-403   \n",
       "2  2(2-1-0-4)          1.0  3.0  0920-1145    4.0  6.0    Morning    D5-403   \n",
       "3  2(2-1-0-4)          1.0  3.0  0645-0910    1.0  3.0    Morning    D5-403   \n",
       "4  2(2-1-0-4)          1.0  3.0  1505-1730    4.0  6.0  Afternoon    D8-103   \n",
       "\n",
       "  Requires Practical  Num. Students Class Type Semester  \n",
       "0                NaN             75      LT+BT       AB  \n",
       "1                NaN             75      LT+BT       AB  \n",
       "2                NaN             75      LT+BT       AB  \n",
       "3                NaN             75      LT+BT       AB  \n",
       "4                NaN             40      LT+BT       AB  "
      ]
     },
     "execution_count": 1,
     "metadata": {},
     "output_type": "execute_result"
    }
   ],
   "source": [
    "import pandas as pd\n",
    "schedule = pd.read_csv('data/raw_schedule.csv')\n",
    "schedule['Shift'] = schedule['Shift'].str.replace('Sáng', 'Morning')\n",
    "schedule['Shift'] = schedule['Shift'].str.replace('Chiều', 'Afternoon')\n",
    "schedule.head()"
   ]
  },
  {
   "cell_type": "markdown",
   "metadata": {},
   "source": [
    "Loại bỏ các lớp không phải lớp LT, BT thông thường. Lí do được đưa ra là vì chỉ những phòng học dùng cho lớp LT và BT mới có thể dùng cho bất cứ lớp LT hay BT nào khác. Các lớp thí nghiệm không thể học ở phòng học của LT, BT. Ngược lại, lớp LT và BT không thể học ở các phòng thí nghiệm. Những loại lớp khác (ĐA - đồ án, ĐATN - đồ án tốt nghiệp, TTTN - thực tập tốt nghiệp, v.v) có đặc thù là không sử dụng phòng học, vì vậy không liên quan tới bài toán đang xét."
   ]
  },
  {
   "cell_type": "code",
   "execution_count": 2,
   "metadata": {},
   "outputs": [
    {
     "data": {
      "text/plain": [
       "Class Type\n",
       "TN       4589\n",
       "LT+BT    2937\n",
       "TT        606\n",
       "BT        500\n",
       "ĐA        238\n",
       "ĐATN      169\n",
       "LT        136\n",
       "TTTN      123\n",
       "KLTN        9\n",
       "Name: count, dtype: int64"
      ]
     },
     "execution_count": 2,
     "metadata": {},
     "output_type": "execute_result"
    }
   ],
   "source": [
    "schedule['Class Type'].value_counts()"
   ]
  },
  {
   "cell_type": "code",
   "execution_count": 3,
   "metadata": {},
   "outputs": [
    {
     "name": "stdout",
     "output_type": "stream",
     "text": [
      "<class 'pandas.core.frame.DataFrame'>\n",
      "Index: 3573 entries, 0 to 9292\n",
      "Data columns (total 16 columns):\n",
      " #   Column              Non-Null Count  Dtype  \n",
      "---  ------              --------------  -----  \n",
      " 0   Faculty             3573 non-null   object \n",
      " 1   Class ID            3573 non-null   int64  \n",
      " 2   Course ID           3573 non-null   object \n",
      " 3   Course Name         3573 non-null   object \n",
      " 4   Credits             3573 non-null   object \n",
      " 5   Session no.         3572 non-null   float64\n",
      " 6   Day                 3572 non-null   float64\n",
      " 7   Time                3572 non-null   object \n",
      " 8   Start               3572 non-null   float64\n",
      " 9   End                 3572 non-null   float64\n",
      " 10  Shift               3572 non-null   object \n",
      " 11  Classroom           3423 non-null   object \n",
      " 12  Requires Practical  808 non-null    object \n",
      " 13  Num. Students       3573 non-null   int64  \n",
      " 14  Class Type          3573 non-null   object \n",
      " 15  Semester            3573 non-null   object \n",
      "dtypes: float64(4), int64(2), object(10)\n",
      "memory usage: 474.5+ KB\n"
     ]
    }
   ],
   "source": [
    "schedule = schedule[schedule['Class Type'].isin(['LT+BT', 'LT', 'BT'])]\n",
    "schedule.info()"
   ]
  },
  {
   "cell_type": "markdown",
   "metadata": {},
   "source": [
    "Một lớp học, dù thuộc loại LT+BT, vẫn không được xếp phòng. Dù không rõ lí do là gì, vì hiện tượng này chỉ xuất hiện ở đúng một dòng (một lớp), nên dòng này được loại bỏ."
   ]
  },
  {
   "cell_type": "code",
   "execution_count": 4,
   "metadata": {},
   "outputs": [
    {
     "data": {
      "text/html": [
       "<div>\n",
       "<style scoped>\n",
       "    .dataframe tbody tr th:only-of-type {\n",
       "        vertical-align: middle;\n",
       "    }\n",
       "\n",
       "    .dataframe tbody tr th {\n",
       "        vertical-align: top;\n",
       "    }\n",
       "\n",
       "    .dataframe thead th {\n",
       "        text-align: right;\n",
       "    }\n",
       "</style>\n",
       "<table border=\"1\" class=\"dataframe\">\n",
       "  <thead>\n",
       "    <tr style=\"text-align: right;\">\n",
       "      <th></th>\n",
       "      <th>Faculty</th>\n",
       "      <th>Class ID</th>\n",
       "      <th>Course ID</th>\n",
       "      <th>Course Name</th>\n",
       "      <th>Credits</th>\n",
       "      <th>Session no.</th>\n",
       "      <th>Day</th>\n",
       "      <th>Time</th>\n",
       "      <th>Start</th>\n",
       "      <th>End</th>\n",
       "      <th>Shift</th>\n",
       "      <th>Classroom</th>\n",
       "      <th>Requires Practical</th>\n",
       "      <th>Num. Students</th>\n",
       "      <th>Class Type</th>\n",
       "      <th>Semester</th>\n",
       "    </tr>\n",
       "  </thead>\n",
       "  <tbody>\n",
       "    <tr>\n",
       "      <th>3604</th>\n",
       "      <td>TDDT</td>\n",
       "      <td>136290</td>\n",
       "      <td>ET3250E</td>\n",
       "      <td>Fundamentals of Communication Systems</td>\n",
       "      <td>3(3-1-0-6)</td>\n",
       "      <td>NaN</td>\n",
       "      <td>NaN</td>\n",
       "      <td>NaN</td>\n",
       "      <td>NaN</td>\n",
       "      <td>NaN</td>\n",
       "      <td>NaN</td>\n",
       "      <td>NaN</td>\n",
       "      <td>NaN</td>\n",
       "      <td>50</td>\n",
       "      <td>LT+BT</td>\n",
       "      <td>AB</td>\n",
       "    </tr>\n",
       "  </tbody>\n",
       "</table>\n",
       "</div>"
      ],
      "text/plain": [
       "     Faculty  Class ID Course ID                            Course Name  \\\n",
       "3604    TDDT    136290   ET3250E  Fundamentals of Communication Systems   \n",
       "\n",
       "         Credits  Session no.  Day Time  Start  End Shift Classroom  \\\n",
       "3604  3(3-1-0-6)          NaN  NaN  NaN    NaN  NaN   NaN       NaN   \n",
       "\n",
       "     Requires Practical  Num. Students Class Type Semester  \n",
       "3604                NaN             50      LT+BT       AB  "
      ]
     },
     "execution_count": 4,
     "metadata": {},
     "output_type": "execute_result"
    }
   ],
   "source": [
    "schedule[schedule['Session no.'].isnull()]"
   ]
  },
  {
   "cell_type": "code",
   "execution_count": 5,
   "metadata": {},
   "outputs": [
    {
     "name": "stdout",
     "output_type": "stream",
     "text": [
      "<class 'pandas.core.frame.DataFrame'>\n",
      "Index: 3572 entries, 0 to 9292\n",
      "Data columns (total 16 columns):\n",
      " #   Column              Non-Null Count  Dtype  \n",
      "---  ------              --------------  -----  \n",
      " 0   Faculty             3572 non-null   object \n",
      " 1   Class ID            3572 non-null   int64  \n",
      " 2   Course ID           3572 non-null   object \n",
      " 3   Course Name         3572 non-null   object \n",
      " 4   Credits             3572 non-null   object \n",
      " 5   Session no.         3572 non-null   float64\n",
      " 6   Day                 3572 non-null   float64\n",
      " 7   Time                3572 non-null   object \n",
      " 8   Start               3572 non-null   float64\n",
      " 9   End                 3572 non-null   float64\n",
      " 10  Shift               3572 non-null   object \n",
      " 11  Classroom           3423 non-null   object \n",
      " 12  Requires Practical  808 non-null    object \n",
      " 13  Num. Students       3572 non-null   int64  \n",
      " 14  Class Type          3572 non-null   object \n",
      " 15  Semester            3572 non-null   object \n",
      "dtypes: float64(4), int64(2), object(10)\n",
      "memory usage: 474.4+ KB\n"
     ]
    }
   ],
   "source": [
    "schedule = schedule[schedule['Session no.'].notnull()]\n",
    "schedule.info()"
   ]
  },
  {
   "cell_type": "markdown",
   "metadata": {},
   "source": [
    "Bên cạnh đó, một loại lớp có đặc thù nữa là lớp của khoa Giáo dục Thể chất (KGDTC), và lớp của khoa Giáo dục Quốc phòng (KGDQP). Tất cả các lớp của KGDTC, và các lớp BT của KGDQP, không học ở lớp học bình thường mà học ở sân vận động hay nhà thi đấu, đếu được loại bỏ."
   ]
  },
  {
   "cell_type": "code",
   "execution_count": 6,
   "metadata": {},
   "outputs": [
    {
     "data": {
      "text/plain": [
       "Faculty\n",
       "TCK         616\n",
       "TDDT        557\n",
       "TCNTT       393\n",
       "BGDTC       313\n",
       "KML         312\n",
       "KCNHH       255\n",
       "KNN         247\n",
       "VVLKT       195\n",
       "KKTVQL      160\n",
       "KTTD        147\n",
       "KKHVCNVL    110\n",
       "VCNSHVTP     85\n",
       "KCNDMVTT     73\n",
       "KSPKT        50\n",
       "VKHVCNMT     39\n",
       "KGDQP        20\n",
       "Name: count, dtype: int64"
      ]
     },
     "execution_count": 6,
     "metadata": {},
     "output_type": "execute_result"
    }
   ],
   "source": [
    "schedule['Faculty'].value_counts()"
   ]
  },
  {
   "cell_type": "code",
   "execution_count": 7,
   "metadata": {},
   "outputs": [
    {
     "name": "stdout",
     "output_type": "stream",
     "text": [
      "<class 'pandas.core.frame.DataFrame'>\n",
      "Index: 3259 entries, 0 to 9292\n",
      "Data columns (total 16 columns):\n",
      " #   Column              Non-Null Count  Dtype  \n",
      "---  ------              --------------  -----  \n",
      " 0   Faculty             3259 non-null   object \n",
      " 1   Class ID            3259 non-null   int64  \n",
      " 2   Course ID           3259 non-null   object \n",
      " 3   Course Name         3259 non-null   object \n",
      " 4   Credits             3259 non-null   object \n",
      " 5   Session no.         3259 non-null   float64\n",
      " 6   Day                 3259 non-null   float64\n",
      " 7   Time                3259 non-null   object \n",
      " 8   Start               3259 non-null   float64\n",
      " 9   End                 3259 non-null   float64\n",
      " 10  Shift               3259 non-null   object \n",
      " 11  Classroom           3111 non-null   object \n",
      " 12  Requires Practical  808 non-null    object \n",
      " 13  Num. Students       3259 non-null   int64  \n",
      " 14  Class Type          3259 non-null   object \n",
      " 15  Semester            3259 non-null   object \n",
      "dtypes: float64(4), int64(2), object(10)\n",
      "memory usage: 432.8+ KB\n"
     ]
    }
   ],
   "source": [
    "schedule = schedule[schedule['Faculty'] != 'BGDTC']\n",
    "schedule.info()"
   ]
  },
  {
   "cell_type": "code",
   "execution_count": 8,
   "metadata": {},
   "outputs": [
    {
     "name": "stdout",
     "output_type": "stream",
     "text": [
      "<class 'pandas.core.frame.DataFrame'>\n",
      "Index: 3251 entries, 0 to 9292\n",
      "Data columns (total 16 columns):\n",
      " #   Column              Non-Null Count  Dtype  \n",
      "---  ------              --------------  -----  \n",
      " 0   Faculty             3251 non-null   object \n",
      " 1   Class ID            3251 non-null   int64  \n",
      " 2   Course ID           3251 non-null   object \n",
      " 3   Course Name         3251 non-null   object \n",
      " 4   Credits             3251 non-null   object \n",
      " 5   Session no.         3251 non-null   float64\n",
      " 6   Day                 3251 non-null   float64\n",
      " 7   Time                3251 non-null   object \n",
      " 8   Start               3251 non-null   float64\n",
      " 9   End                 3251 non-null   float64\n",
      " 10  Shift               3251 non-null   object \n",
      " 11  Classroom           3103 non-null   object \n",
      " 12  Requires Practical  808 non-null    object \n",
      " 13  Num. Students       3251 non-null   int64  \n",
      " 14  Class Type          3251 non-null   object \n",
      " 15  Semester            3251 non-null   object \n",
      "dtypes: float64(4), int64(2), object(10)\n",
      "memory usage: 431.8+ KB\n"
     ]
    }
   ],
   "source": [
    "schedule = schedule[~((schedule['Faculty'].isin(['KGDQP'])) & (schedule['Class Type'].isin(['BT'])))]\n",
    "schedule.info()"
   ]
  },
  {
   "cell_type": "markdown",
   "metadata": {},
   "source": [
    "Tiếp tục thực hiện bước tiền xử lý tiếp theo: Đánh giá các giá trị có xuất hiện trong ba cột: Class Type, Semester, và Requires Practical. Dễ thấy những giá trị còn lại không còn nhiều giá trị, nên những cột này được loại bỏ."
   ]
  },
  {
   "cell_type": "code",
   "execution_count": 9,
   "metadata": {},
   "outputs": [
    {
     "name": "stdout",
     "output_type": "stream",
     "text": [
      "Class Type\n",
      "LT+BT    2623\n",
      "BT        492\n",
      "LT        136\n",
      "Name: count, dtype: int64\n",
      "Semester\n",
      "AB    3147\n",
      "A       57\n",
      "B       47\n",
      "Name: count, dtype: int64\n",
      "Requires Practical\n",
      "TN    808\n",
      "Name: count, dtype: int64\n"
     ]
    }
   ],
   "source": [
    "print(schedule['Class Type'].value_counts())\n",
    "print(schedule['Semester'].value_counts())\n",
    "print(schedule['Requires Practical'].value_counts())"
   ]
  },
  {
   "cell_type": "code",
   "execution_count": 10,
   "metadata": {},
   "outputs": [
    {
     "name": "stdout",
     "output_type": "stream",
     "text": [
      "<class 'pandas.core.frame.DataFrame'>\n",
      "Index: 3251 entries, 0 to 9292\n",
      "Data columns (total 13 columns):\n",
      " #   Column         Non-Null Count  Dtype  \n",
      "---  ------         --------------  -----  \n",
      " 0   Faculty        3251 non-null   object \n",
      " 1   Class ID       3251 non-null   int64  \n",
      " 2   Course ID      3251 non-null   object \n",
      " 3   Course Name    3251 non-null   object \n",
      " 4   Credits        3251 non-null   object \n",
      " 5   Session no.    3251 non-null   float64\n",
      " 6   Day            3251 non-null   float64\n",
      " 7   Time           3251 non-null   object \n",
      " 8   Start          3251 non-null   float64\n",
      " 9   End            3251 non-null   float64\n",
      " 10  Shift          3251 non-null   object \n",
      " 11  Classroom      3103 non-null   object \n",
      " 12  Num. Students  3251 non-null   int64  \n",
      "dtypes: float64(4), int64(2), object(7)\n",
      "memory usage: 355.6+ KB\n"
     ]
    }
   ],
   "source": [
    "schedule.drop(columns=['Requires Practical', 'Class Type', 'Semester'], inplace=True)\n",
    "schedule.info()"
   ]
  },
  {
   "cell_type": "markdown",
   "metadata": {},
   "source": [
    "Sau đó, thực hiện kiểm tra các giá trị trong cột Time (khung thời gian của lớp), Start (tiết bắt đầu), End (tiếp kết thúc), Shift (sáng hay chiều), và Day (ngày nào trong tuần). Có thể xác nhận theo kiến thức cá nhân rằng không có giá trị nào bất thường."
   ]
  },
  {
   "cell_type": "code",
   "execution_count": 11,
   "metadata": {},
   "outputs": [
    {
     "data": {
      "text/plain": [
       "Time\n",
       "0920-1145    436\n",
       "0645-0910    420\n",
       "1230-1455    415\n",
       "1505-1730    403\n",
       "1015-1145    292\n",
       "1230-1400    232\n",
       "0645-1005    166\n",
       "1600-1730    161\n",
       "0645-0815    138\n",
       "1410-1730    130\n",
       "0825-1005    120\n",
       "1410-1550     99\n",
       "1230-1550     66\n",
       "0825-1145     58\n",
       "1505-1645     36\n",
       "0730-0910     36\n",
       "0920-1100     22\n",
       "1315-1455     18\n",
       "0730-1100      2\n",
       "1315-1645      1\n",
       "Name: count, dtype: int64"
      ]
     },
     "execution_count": 11,
     "metadata": {},
     "output_type": "execute_result"
    }
   ],
   "source": [
    "schedule['Time'].value_counts()"
   ]
  },
  {
   "cell_type": "code",
   "execution_count": 12,
   "metadata": {},
   "outputs": [
    {
     "name": "stdout",
     "output_type": "stream",
     "text": [
      "Start\n",
      "1.0    1437\n",
      "4.0     897\n",
      "5.0     453\n",
      "3.0     407\n",
      "2.0      57\n",
      "Name: count, dtype: int64\n",
      "End\n",
      "6.0    1480\n",
      "3.0     889\n",
      "4.0     451\n",
      "2.0     370\n",
      "5.0      61\n",
      "Name: count, dtype: int64\n",
      "Shift\n",
      "Morning      1690\n",
      "Afternoon    1561\n",
      "Name: count, dtype: int64\n",
      "Day\n",
      "4.0    668\n",
      "2.0    656\n",
      "6.0    653\n",
      "5.0    644\n",
      "3.0    623\n",
      "7.0      7\n",
      "Name: count, dtype: int64\n"
     ]
    }
   ],
   "source": [
    "print(schedule['Start'].value_counts())\n",
    "print(schedule['End'].value_counts())\n",
    "print(schedule['Shift'].value_counts())\n",
    "print(schedule['Day'].value_counts())"
   ]
  },
  {
   "cell_type": "markdown",
   "metadata": {},
   "source": [
    "Bước tiền xử lý tiếp theo là kiếm tra các giá trị trong cột Faculty (Trường/Khoa/Viện), và cột Credits. Một bước sửa dữ liệu nhỏ là chỉ lấy số tín chỉ (2, 3, 4, 5) cho cột Credits"
   ]
  },
  {
   "cell_type": "code",
   "execution_count": 13,
   "metadata": {},
   "outputs": [
    {
     "name": "stdout",
     "output_type": "stream",
     "text": [
      "Faculty\n",
      "TCK         616\n",
      "TDDT        557\n",
      "TCNTT       393\n",
      "KML         312\n",
      "KCNHH       255\n",
      "KNN         247\n",
      "VVLKT       195\n",
      "KKTVQL      160\n",
      "KTTD        147\n",
      "KKHVCNVL    110\n",
      "VCNSHVTP     85\n",
      "KCNDMVTT     73\n",
      "KSPKT        50\n",
      "VKHVCNMT     39\n",
      "KGDQP        12\n",
      "Name: count, dtype: int64\n",
      "Credits\n",
      "2(2-1-0-4)     723\n",
      "2(2-0-0-4)     457\n",
      "3(3-1-0-6)     407\n",
      "3(2-2-0-6)     341\n",
      "2(2-0-1-4)     229\n",
      "              ... \n",
      "4(3-1-1-6)       1\n",
      "4(3-0-1-6)       1\n",
      "2(2-1-0-4)       1\n",
      "1(0-0-2-2)       1\n",
      "3(3-0-0-4)       1\n",
      "Name: count, Length: 61, dtype: int64\n"
     ]
    }
   ],
   "source": [
    "print(schedule['Faculty'].value_counts())\n",
    "print(schedule['Credits'].value_counts())"
   ]
  },
  {
   "cell_type": "code",
   "execution_count": 14,
   "metadata": {},
   "outputs": [],
   "source": [
    "schedule['Credits'] = schedule['Credits'].str[0]"
   ]
  },
  {
   "cell_type": "code",
   "execution_count": 15,
   "metadata": {},
   "outputs": [
    {
     "name": "stdout",
     "output_type": "stream",
     "text": [
      "Credits\n",
      "2    1662\n",
      "3    1386\n",
      "4     153\n",
      "1      35\n",
      "0      12\n",
      "5       3\n",
      "Name: count, dtype: int64\n"
     ]
    },
    {
     "data": {
      "text/html": [
       "<div>\n",
       "<style scoped>\n",
       "    .dataframe tbody tr th:only-of-type {\n",
       "        vertical-align: middle;\n",
       "    }\n",
       "\n",
       "    .dataframe tbody tr th {\n",
       "        vertical-align: top;\n",
       "    }\n",
       "\n",
       "    .dataframe thead th {\n",
       "        text-align: right;\n",
       "    }\n",
       "</style>\n",
       "<table border=\"1\" class=\"dataframe\">\n",
       "  <thead>\n",
       "    <tr style=\"text-align: right;\">\n",
       "      <th></th>\n",
       "      <th>Faculty</th>\n",
       "      <th>Class ID</th>\n",
       "      <th>Course ID</th>\n",
       "      <th>Course Name</th>\n",
       "      <th>Credits</th>\n",
       "      <th>Session no.</th>\n",
       "      <th>Day</th>\n",
       "      <th>Time</th>\n",
       "      <th>Start</th>\n",
       "      <th>End</th>\n",
       "      <th>Shift</th>\n",
       "      <th>Classroom</th>\n",
       "      <th>Num. Students</th>\n",
       "    </tr>\n",
       "  </thead>\n",
       "  <tbody>\n",
       "    <tr>\n",
       "      <th>0</th>\n",
       "      <td>TDDT</td>\n",
       "      <td>137978</td>\n",
       "      <td>AC2010</td>\n",
       "      <td>Programming Techniques</td>\n",
       "      <td>2</td>\n",
       "      <td>1.0</td>\n",
       "      <td>2.0</td>\n",
       "      <td>0920-1145</td>\n",
       "      <td>4.0</td>\n",
       "      <td>6.0</td>\n",
       "      <td>Morning</td>\n",
       "      <td>TC-211</td>\n",
       "      <td>75</td>\n",
       "    </tr>\n",
       "    <tr>\n",
       "      <th>1</th>\n",
       "      <td>TDDT</td>\n",
       "      <td>137982</td>\n",
       "      <td>AC2020</td>\n",
       "      <td>Computer Graphic in 2D and 3D images</td>\n",
       "      <td>3</td>\n",
       "      <td>1.0</td>\n",
       "      <td>4.0</td>\n",
       "      <td>0645-1005</td>\n",
       "      <td>1.0</td>\n",
       "      <td>4.0</td>\n",
       "      <td>Morning</td>\n",
       "      <td>D5-403</td>\n",
       "      <td>75</td>\n",
       "    </tr>\n",
       "    <tr>\n",
       "      <th>2</th>\n",
       "      <td>TDDT</td>\n",
       "      <td>137983</td>\n",
       "      <td>AC2040</td>\n",
       "      <td>Database</td>\n",
       "      <td>2</td>\n",
       "      <td>1.0</td>\n",
       "      <td>3.0</td>\n",
       "      <td>0920-1145</td>\n",
       "      <td>4.0</td>\n",
       "      <td>6.0</td>\n",
       "      <td>Morning</td>\n",
       "      <td>D5-403</td>\n",
       "      <td>75</td>\n",
       "    </tr>\n",
       "    <tr>\n",
       "      <th>3</th>\n",
       "      <td>TDDT</td>\n",
       "      <td>137984</td>\n",
       "      <td>AC2050</td>\n",
       "      <td>Data Structure and Algorithm</td>\n",
       "      <td>2</td>\n",
       "      <td>1.0</td>\n",
       "      <td>3.0</td>\n",
       "      <td>0645-0910</td>\n",
       "      <td>1.0</td>\n",
       "      <td>3.0</td>\n",
       "      <td>Morning</td>\n",
       "      <td>D5-403</td>\n",
       "      <td>75</td>\n",
       "    </tr>\n",
       "    <tr>\n",
       "      <th>4</th>\n",
       "      <td>TDDT</td>\n",
       "      <td>137987</td>\n",
       "      <td>AC3010</td>\n",
       "      <td>System Analysis and Design</td>\n",
       "      <td>2</td>\n",
       "      <td>1.0</td>\n",
       "      <td>3.0</td>\n",
       "      <td>1505-1730</td>\n",
       "      <td>4.0</td>\n",
       "      <td>6.0</td>\n",
       "      <td>Afternoon</td>\n",
       "      <td>D8-103</td>\n",
       "      <td>40</td>\n",
       "    </tr>\n",
       "  </tbody>\n",
       "</table>\n",
       "</div>"
      ],
      "text/plain": [
       "  Faculty  Class ID Course ID                           Course Name Credits  \\\n",
       "0    TDDT    137978    AC2010                Programming Techniques       2   \n",
       "1    TDDT    137982    AC2020  Computer Graphic in 2D and 3D images       3   \n",
       "2    TDDT    137983    AC2040                              Database       2   \n",
       "3    TDDT    137984    AC2050          Data Structure and Algorithm       2   \n",
       "4    TDDT    137987    AC3010            System Analysis and Design       2   \n",
       "\n",
       "   Session no.  Day       Time  Start  End      Shift Classroom  Num. Students  \n",
       "0          1.0  2.0  0920-1145    4.0  6.0    Morning    TC-211             75  \n",
       "1          1.0  4.0  0645-1005    1.0  4.0    Morning    D5-403             75  \n",
       "2          1.0  3.0  0920-1145    4.0  6.0    Morning    D5-403             75  \n",
       "3          1.0  3.0  0645-0910    1.0  3.0    Morning    D5-403             75  \n",
       "4          1.0  3.0  1505-1730    4.0  6.0  Afternoon    D8-103             40  "
      ]
     },
     "execution_count": 15,
     "metadata": {},
     "output_type": "execute_result"
    }
   ],
   "source": [
    "print(schedule['Credits'].value_counts())\n",
    "schedule.head()"
   ]
  },
  {
   "cell_type": "markdown",
   "metadata": {},
   "source": [
    "Cột \"Num. Periods\" được tính từ cột Start và End để tính số tiết học được sử dụng cho lớp học nào đó. Vì thời khóa biểu thực tế có những lớp học được bẻ thành nhiều tiết trong nhiều buổi khác nhau trong một tuần, việc nhóm các dòng theo Class ID sau đó tính tổng số tiết học (chính là thông tin từ Num. Periods) chính là để gán cho mỗi dòng tổng số tiết học trong tuần của môn học đó. Ví dụ, môn X có 2 buổi học trong tuần, mỗi buổi có Num. Periods là 2, thì Total Num. Periods là 4."
   ]
  },
  {
   "cell_type": "code",
   "execution_count": 16,
   "metadata": {},
   "outputs": [
    {
     "data": {
      "text/html": [
       "<div>\n",
       "<style scoped>\n",
       "    .dataframe tbody tr th:only-of-type {\n",
       "        vertical-align: middle;\n",
       "    }\n",
       "\n",
       "    .dataframe tbody tr th {\n",
       "        vertical-align: top;\n",
       "    }\n",
       "\n",
       "    .dataframe thead th {\n",
       "        text-align: right;\n",
       "    }\n",
       "</style>\n",
       "<table border=\"1\" class=\"dataframe\">\n",
       "  <thead>\n",
       "    <tr style=\"text-align: right;\">\n",
       "      <th></th>\n",
       "      <th>Faculty</th>\n",
       "      <th>Class ID</th>\n",
       "      <th>Course ID</th>\n",
       "      <th>Course Name</th>\n",
       "      <th>Credits</th>\n",
       "      <th>Session no.</th>\n",
       "      <th>Day</th>\n",
       "      <th>Time</th>\n",
       "      <th>Start</th>\n",
       "      <th>End</th>\n",
       "      <th>Shift</th>\n",
       "      <th>Classroom</th>\n",
       "      <th>Num. Students</th>\n",
       "      <th>Num. Periods</th>\n",
       "    </tr>\n",
       "  </thead>\n",
       "  <tbody>\n",
       "    <tr>\n",
       "      <th>0</th>\n",
       "      <td>TDDT</td>\n",
       "      <td>137978</td>\n",
       "      <td>AC2010</td>\n",
       "      <td>Programming Techniques</td>\n",
       "      <td>2</td>\n",
       "      <td>1.0</td>\n",
       "      <td>2.0</td>\n",
       "      <td>0920-1145</td>\n",
       "      <td>4.0</td>\n",
       "      <td>6.0</td>\n",
       "      <td>Morning</td>\n",
       "      <td>TC-211</td>\n",
       "      <td>75</td>\n",
       "      <td>3.0</td>\n",
       "    </tr>\n",
       "    <tr>\n",
       "      <th>1</th>\n",
       "      <td>TDDT</td>\n",
       "      <td>137982</td>\n",
       "      <td>AC2020</td>\n",
       "      <td>Computer Graphic in 2D and 3D images</td>\n",
       "      <td>3</td>\n",
       "      <td>1.0</td>\n",
       "      <td>4.0</td>\n",
       "      <td>0645-1005</td>\n",
       "      <td>1.0</td>\n",
       "      <td>4.0</td>\n",
       "      <td>Morning</td>\n",
       "      <td>D5-403</td>\n",
       "      <td>75</td>\n",
       "      <td>4.0</td>\n",
       "    </tr>\n",
       "    <tr>\n",
       "      <th>2</th>\n",
       "      <td>TDDT</td>\n",
       "      <td>137983</td>\n",
       "      <td>AC2040</td>\n",
       "      <td>Database</td>\n",
       "      <td>2</td>\n",
       "      <td>1.0</td>\n",
       "      <td>3.0</td>\n",
       "      <td>0920-1145</td>\n",
       "      <td>4.0</td>\n",
       "      <td>6.0</td>\n",
       "      <td>Morning</td>\n",
       "      <td>D5-403</td>\n",
       "      <td>75</td>\n",
       "      <td>3.0</td>\n",
       "    </tr>\n",
       "    <tr>\n",
       "      <th>3</th>\n",
       "      <td>TDDT</td>\n",
       "      <td>137984</td>\n",
       "      <td>AC2050</td>\n",
       "      <td>Data Structure and Algorithm</td>\n",
       "      <td>2</td>\n",
       "      <td>1.0</td>\n",
       "      <td>3.0</td>\n",
       "      <td>0645-0910</td>\n",
       "      <td>1.0</td>\n",
       "      <td>3.0</td>\n",
       "      <td>Morning</td>\n",
       "      <td>D5-403</td>\n",
       "      <td>75</td>\n",
       "      <td>3.0</td>\n",
       "    </tr>\n",
       "    <tr>\n",
       "      <th>4</th>\n",
       "      <td>TDDT</td>\n",
       "      <td>137987</td>\n",
       "      <td>AC3010</td>\n",
       "      <td>System Analysis and Design</td>\n",
       "      <td>2</td>\n",
       "      <td>1.0</td>\n",
       "      <td>3.0</td>\n",
       "      <td>1505-1730</td>\n",
       "      <td>4.0</td>\n",
       "      <td>6.0</td>\n",
       "      <td>Afternoon</td>\n",
       "      <td>D8-103</td>\n",
       "      <td>40</td>\n",
       "      <td>3.0</td>\n",
       "    </tr>\n",
       "  </tbody>\n",
       "</table>\n",
       "</div>"
      ],
      "text/plain": [
       "  Faculty  Class ID Course ID                           Course Name Credits  \\\n",
       "0    TDDT    137978    AC2010                Programming Techniques       2   \n",
       "1    TDDT    137982    AC2020  Computer Graphic in 2D and 3D images       3   \n",
       "2    TDDT    137983    AC2040                              Database       2   \n",
       "3    TDDT    137984    AC2050          Data Structure and Algorithm       2   \n",
       "4    TDDT    137987    AC3010            System Analysis and Design       2   \n",
       "\n",
       "   Session no.  Day       Time  Start  End      Shift Classroom  \\\n",
       "0          1.0  2.0  0920-1145    4.0  6.0    Morning    TC-211   \n",
       "1          1.0  4.0  0645-1005    1.0  4.0    Morning    D5-403   \n",
       "2          1.0  3.0  0920-1145    4.0  6.0    Morning    D5-403   \n",
       "3          1.0  3.0  0645-0910    1.0  3.0    Morning    D5-403   \n",
       "4          1.0  3.0  1505-1730    4.0  6.0  Afternoon    D8-103   \n",
       "\n",
       "   Num. Students  Num. Periods  \n",
       "0             75           3.0  \n",
       "1             75           4.0  \n",
       "2             75           3.0  \n",
       "3             75           3.0  \n",
       "4             40           3.0  "
      ]
     },
     "execution_count": 16,
     "metadata": {},
     "output_type": "execute_result"
    }
   ],
   "source": [
    "schedule['Num. Periods'] = schedule['End'] - schedule['Start'] + 1\n",
    "schedule.head()"
   ]
  },
  {
   "cell_type": "code",
   "execution_count": 17,
   "metadata": {},
   "outputs": [
    {
     "name": "stdout",
     "output_type": "stream",
     "text": [
      "{135227: 2.0, 135228: 2.0, 135229: 2.0, 135230: 2.0, 135231: 2.0, 135232: 2.0, 135233: 2.0, 135234: 2.0, 135235: 4.0, 135236: 4.0, 135237: 4.0, 135238: 4.0, 135239: 4.0, 135240: 2.0, 135241: 2.0, 135242: 4.0, 135243: 4.0, 135244: 4.0, 135245: 4.0, 135246: 4.0, 135247: 4.0, 135248: 4.0, 135249: 4.0, 135250: 4.0, 135251: 4.0, 135252: 4.0, 135253: 4.0, 135254: 4.0, 135255: 4.0, 135256: 4.0, 135257: 4.0, 135258: 2.0, 135259: 2.0, 135260: 4.0, 135261: 4.0, 135262: 2.0, 135263: 2.0, 135264: 4.0, 135265: 4.0, 135266: 4.0, 135267: 4.0, 135268: 4.0, 135269: 4.0, 135270: 4.0, 135271: 4.0, 135272: 4.0, 135273: 4.0, 135274: 4.0, 135275: 4.0, 135276: 4.0, 135277: 4.0, 135278: 4.0, 135279: 3.0, 135280: 3.0, 135281: 2.0, 135282: 2.0, 135283: 4.0, 135284: 4.0, 135285: 3.0, 135286: 3.0, 135287: 3.0, 135288: 3.0, 135289: 3.0, 135290: 4.0, 135291: 4.0, 135292: 4.0, 135293: 4.0, 135294: 4.0, 135295: 4.0, 135296: 4.0, 135297: 4.0, 135298: 4.0, 135299: 4.0, 135300: 4.0, 135301: 4.0, 135302: 4.0, 135303: 4.0, 135304: 4.0, 135305: 4.0, 135306: 4.0, 135307: 4.0, 135308: 4.0, 135309: 4.0, 135310: 4.0, 135311: 4.0, 135312: 3.0, 135313: 3.0, 135314: 3.0, 135315: 3.0, 135316: 3.0, 135317: 3.0, 135318: 8.0, 135319: 8.0, 135320: 8.0, 135321: 8.0, 135322: 8.0, 135323: 8.0, 135324: 8.0, 135325: 4.0, 135326: 4.0, 135327: 6.0, 135328: 6.0, 135329: 6.0, 135330: 6.0, 135331: 6.0, 135332: 6.0, 135333: 6.0, 135334: 6.0, 135335: 6.0, 135336: 6.0, 135337: 4.0, 135338: 4.0, 135339: 4.0, 135340: 4.0, 135383: 2.0, 135384: 2.0, 135385: 2.0, 135386: 3.0, 135387: 2.0, 135388: 2.0, 135389: 3.0, 135390: 2.0, 135391: 2.0, 135392: 4.0, 135393: 4.0, 135394: 4.0, 135395: 4.0, 135396: 2.0, 135397: 4.0, 135398: 4.0, 135399: 4.0, 135400: 2.0, 135401: 2.0, 135402: 2.0, 135403: 2.0, 135404: 3.0, 135405: 2.0, 135406: 3.0, 135407: 2.0, 135408: 4.0, 135409: 4.0, 135410: 3.0, 135411: 4.0, 135412: 4.0, 135413: 3.0, 135414: 2.0, 135415: 2.0, 135416: 3.0, 135417: 4.0, 135418: 2.0, 135419: 4.0, 135420: 4.0, 135421: 4.0, 135422: 2.0, 135423: 2.0, 135424: 2.0, 135425: 2.0, 135426: 2.0, 135427: 2.0, 135456: 2.0, 135457: 2.0, 135458: 2.0, 135459: 2.0, 135460: 2.0, 135461: 2.0, 135462: 2.0, 135463: 2.0, 135477: 4.0, 136046: 3.0, 136047: 4.0, 136048: 3.0, 136049: 4.0, 136050: 3.0, 136051: 4.0, 136052: 4.0, 136053: 3.0, 136054: 3.0, 136055: 2.0, 136056: 3.0, 136057: 4.0, 136058: 4.0, 136059: 4.0, 136060: 3.0, 136061: 4.0, 136062: 3.0, 136063: 3.0, 136064: 3.0, 136065: 3.0, 136066: 4.0, 136067: 3.0, 136068: 4.0, 136069: 4.0, 136070: 4.0, 136071: 3.0, 136072: 4.0, 136073: 3.0, 136074: 3.0, 136075: 2.0, 136076: 4.0, 136077: 3.0, 136078: 3.0, 136079: 2.0, 136080: 3.0, 136081: 2.0, 136082: 2.0, 136083: 4.0, 136084: 3.0, 136085: 3.0, 136086: 3.0, 136087: 3.0, 136088: 3.0, 136089: 3.0, 136090: 2.0, 136091: 3.0, 136092: 2.0, 136093: 3.0, 136094: 3.0, 136095: 2.0, 136096: 4.0, 136097: 3.0, 136098: 3.0, 136099: 4.0, 136100: 4.0, 136101: 4.0, 136102: 4.0, 136103: 5.0, 136104: 4.0, 136105: 3.0, 136106: 3.0, 136107: 2.0, 136108: 2.0, 136109: 2.0, 136110: 4.0, 136111: 4.0, 136112: 3.0, 136113: 3.0, 136114: 3.0, 136115: 4.0, 136116: 3.0, 136117: 2.0, 136118: 4.0, 136119: 3.0, 136120: 2.0, 136121: 3.0, 136122: 3.0, 136123: 4.0, 136124: 2.0, 136125: 3.0, 136126: 3.0, 136127: 3.0, 136128: 4.0, 136129: 3.0, 136130: 4.0, 136131: 3.0, 136132: 3.0, 136133: 4.0, 136134: 4.0, 136135: 3.0, 136136: 4.0, 136137: 3.0, 136138: 3.0, 136139: 2.0, 136140: 2.0, 136141: 3.0, 136142: 2.0, 136143: 3.0, 136144: 3.0, 136145: 4.0, 136146: 4.0, 136147: 3.0, 136148: 4.0, 136149: 3.0, 136150: 4.0, 136151: 3.0, 136152: 3.0, 136153: 3.0, 136154: 4.0, 136155: 3.0, 136156: 2.0, 136157: 3.0, 136158: 3.0, 136159: 4.0, 136160: 4.0, 136161: 4.0, 136162: 4.0, 136163: 4.0, 136164: 3.0, 136165: 2.0, 136166: 5.0, 136167: 3.0, 136168: 3.0, 136169: 3.0, 136170: 3.0, 136171: 3.0, 136172: 3.0, 136173: 2.0, 136174: 5.0, 136175: 5.0, 136176: 5.0, 136177: 5.0, 136178: 3.0, 136179: 4.0, 136180: 3.0, 136181: 5.0, 136182: 5.0, 136183: 2.0, 136184: 2.0, 136185: 3.0, 136186: 3.0, 136187: 2.0, 136188: 2.0, 136189: 4.0, 136190: 6.0, 136191: 6.0, 136192: 4.0, 136193: 4.0, 136194: 4.0, 136195: 5.0, 136196: 4.0, 136197: 2.0, 136198: 2.0, 136199: 3.0, 136200: 3.0, 136201: 3.0, 136202: 6.0, 136203: 3.0, 136204: 3.0, 136205: 3.0, 136206: 5.0, 136207: 3.0, 136208: 3.0, 136209: 3.0, 136210: 4.0, 136211: 5.0, 136212: 4.0, 136213: 4.0, 136214: 4.0, 136215: 3.0, 136216: 4.0, 136217: 3.0, 136218: 4.0, 136219: 4.0, 136220: 4.0, 136221: 2.0, 136222: 4.0, 136223: 3.0, 136224: 3.0, 136225: 4.0, 136226: 3.0, 136227: 3.0, 136228: 3.0, 136229: 4.0, 136230: 3.0, 136231: 3.0, 136232: 2.0, 136233: 3.0, 136234: 3.0, 136235: 4.0, 136236: 4.0, 136237: 3.0, 136238: 3.0, 136239: 2.0, 136240: 3.0, 136241: 2.0, 136242: 2.0, 136243: 2.0, 136244: 2.0, 136245: 3.0, 136246: 4.0, 136247: 3.0, 136248: 4.0, 136249: 3.0, 136250: 4.0, 136251: 4.0, 136252: 3.0, 136253: 6.0, 136254: 6.0, 136255: 4.0, 136256: 4.0, 136257: 4.0, 136258: 2.0, 136259: 2.0, 136260: 2.0, 136261: 2.0, 136262: 3.0, 136263: 4.0, 136264: 2.0, 136265: 3.0, 136266: 3.0, 136267: 3.0, 136268: 3.0, 136269: 4.0, 136270: 2.0, 136271: 4.0, 136272: 2.0, 136273: 2.0, 136274: 2.0, 136275: 2.0, 136276: 3.0, 136277: 3.0, 136278: 3.0, 136279: 3.0, 136280: 3.0, 136281: 3.0, 136282: 3.0, 136283: 4.0, 136284: 2.0, 136285: 3.0, 136286: 3.0, 136287: 4.0, 136288: 2.0, 136289: 3.0, 136291: 3.0, 136292: 3.0, 136293: 3.0, 136294: 4.0, 136295: 4.0, 136296: 2.0, 136297: 4.0, 136298: 3.0, 136299: 3.0, 136300: 3.0, 136302: 4.0, 136303: 4.0, 136304: 3.0, 136305: 4.0, 136306: 3.0, 136307: 3.0, 136308: 3.0, 136309: 3.0, 136310: 3.0, 136311: 3.0, 136312: 3.0, 136313: 3.0, 136314: 4.0, 136315: 4.0, 136316: 3.0, 136317: 12.0, 136318: 4.0, 136319: 3.0, 136320: 4.0, 136321: 3.0, 136322: 3.0, 136323: 3.0, 136324: 4.0, 136325: 3.0, 136326: 8.0, 136327: 8.0, 136328: 8.0, 136329: 4.0, 136330: 4.0, 136331: 4.0, 136332: 3.0, 136333: 4.0, 136334: 3.0, 136335: 4.0, 136336: 4.0, 136337: 4.0, 136338: 3.0, 136339: 3.0, 136340: 3.0, 136341: 3.0, 136342: 2.0, 136343: 2.0, 136344: 2.0, 136345: 2.0, 136346: 2.0, 136347: 2.0, 136348: 3.0, 136349: 3.0, 136350: 2.0, 136351: 2.0, 136352: 3.0, 136353: 3.0, 136354: 3.0, 136355: 2.0, 136356: 2.0, 136357: 3.0, 136358: 3.0, 136359: 2.0, 136360: 2.0, 136361: 3.0, 136362: 3.0, 136363: 3.0, 136364: 2.0, 136365: 2.0, 136366: 2.0, 136367: 4.0, 136368: 2.0, 136369: 3.0, 136370: 2.0, 136371: 2.0, 136372: 3.0, 136373: 3.0, 136374: 2.0, 136375: 2.0, 136376: 3.0, 136377: 2.0, 136378: 2.0, 136379: 3.0, 136380: 3.0, 136381: 2.0, 136382: 2.0, 136383: 3.0, 136384: 3.0, 136385: 2.0, 136386: 2.0, 136387: 3.0, 136388: 3.0, 136389: 3.0, 136390: 2.0, 136391: 2.0, 136392: 2.0, 136393: 2.0, 136394: 2.0, 136395: 3.0, 136396: 2.0, 136397: 2.0, 136398: 2.0, 136399: 3.0, 136400: 3.0, 136401: 3.0, 136402: 4.0, 136404: 3.0, 136405: 5.0, 136406: 3.0, 136407: 2.0, 136408: 2.0, 136409: 3.0, 136410: 3.0, 136411: 2.0, 136412: 2.0, 136413: 3.0, 136414: 3.0, 136415: 2.0, 136416: 2.0, 136417: 3.0, 136418: 3.0, 136419: 2.0, 136420: 4.0, 136421: 4.0, 136422: 3.0, 136423: 2.0, 136424: 2.0, 136425: 2.0, 136426: 2.0, 136427: 3.0, 136428: 3.0, 136429: 2.0, 136430: 2.0, 136431: 3.0, 136432: 3.0, 136433: 2.0, 136434: 2.0, 136435: 3.0, 136436: 4.0, 136437: 4.0, 136438: 3.0, 136439: 4.0, 136440: 4.0, 136441: 4.0, 136442: 4.0, 136443: 4.0, 136444: 4.0, 136445: 4.0, 136446: 4.0, 136447: 3.0, 136448: 2.0, 136449: 2.0, 136450: 3.0, 136451: 3.0, 136452: 2.0, 136453: 2.0, 136454: 3.0, 136455: 4.0, 136456: 4.0, 136457: 2.0, 136458: 2.0, 136459: 2.0, 136460: 4.0, 136461: 4.0, 136462: 4.0, 136463: 3.0, 136464: 2.0, 136465: 2.0, 136466: 3.0, 136467: 2.0, 136468: 4.0, 136469: 2.0, 136470: 4.0, 136471: 2.0, 136472: 8.0, 136473: 8.0, 136474: 8.0, 136649: 2.0, 136650: 4.0, 136651: 4.0, 136652: 4.0, 136653: 3.0, 136654: 4.0, 136655: 4.0, 136656: 4.0, 136657: 3.0, 136658: 4.0, 136659: 4.0, 136660: 4.0, 136661: 3.0, 136662: 4.0, 136663: 4.0, 136664: 4.0, 136665: 3.0, 136666: 4.0, 136667: 4.0, 136668: 4.0, 136669: 3.0, 136670: 4.0, 136671: 4.0, 136672: 3.0, 136673: 3.0, 136674: 3.0, 136675: 3.0, 136676: 3.0, 136677: 3.0, 136678: 4.0, 136679: 2.0, 136680: 3.0, 136681: 4.0, 136682: 4.0, 136683: 3.0, 136684: 3.0, 136685: 4.0, 136686: 2.0, 136687: 3.0, 136688: 4.0, 136689: 4.0, 136690: 3.0, 136691: 3.0, 136692: 4.0, 136693: 2.0, 136694: 3.0, 136695: 4.0, 136696: 4.0, 136697: 3.0, 136698: 3.0, 136699: 4.0, 136700: 2.0, 136701: 3.0, 136702: 4.0, 136703: 4.0, 136704: 3.0, 136705: 3.0, 136706: 3.0, 136707: 3.0, 136708: 3.0, 136709: 3.0, 136710: 3.0, 136711: 3.0, 136712: 3.0, 136713: 3.0, 136714: 3.0, 136715: 3.0, 136716: 3.0, 136717: 3.0, 136718: 3.0, 136719: 3.0, 136720: 3.0, 136721: 3.0, 136722: 3.0, 136723: 3.0, 136724: 3.0, 136725: 3.0, 136726: 3.0, 136727: 3.0, 136728: 3.0, 136729: 3.0, 136730: 3.0, 136731: 3.0, 136732: 3.0, 136733: 3.0, 136734: 4.0, 136735: 4.0, 136736: 3.0, 136737: 4.0, 136738: 3.0, 136739: 4.0, 136740: 3.0, 136741: 4.0, 136742: 3.0, 136743: 4.0, 136744: 3.0, 136745: 4.0, 136746: 3.0, 136747: 5.0, 136748: 5.0, 136749: 4.0, 136750: 5.0, 136751: 5.0, 136752: 4.0, 136753: 3.0, 136754: 4.0, 136755: 4.0, 136756: 3.0, 136757: 3.0, 136758: 4.0, 136759: 4.0, 136760: 3.0, 136761: 2.0, 136762: 2.0, 136763: 2.0, 136764: 2.0, 136765: 2.0, 136766: 2.0, 136767: 4.0, 136768: 4.0, 136769: 4.0, 136770: 3.0, 136771: 3.0, 136772: 3.0, 136773: 3.0, 136774: 3.0, 136775: 3.0, 136776: 3.0, 136777: 3.0, 136778: 2.0, 136779: 2.0, 136780: 2.0, 136781: 2.0, 136782: 4.0, 136783: 4.0, 136784: 3.0, 136785: 3.0, 136786: 2.0, 136787: 2.0, 136788: 4.0, 136789: 4.0, 136790: 3.0, 136791: 3.0, 136792: 2.0, 136793: 4.0, 136794: 3.0, 136795: 3.0, 136796: 3.0, 136797: 3.0, 136798: 2.0, 136799: 4.0, 136800: 4.0, 136801: 4.0, 136802: 4.0, 136803: 4.0, 136804: 4.0, 136805: 4.0, 136806: 3.0, 136807: 3.0, 136808: 3.0, 136809: 3.0, 136810: 3.0, 136811: 3.0, 136812: 4.0, 136813: 4.0, 136814: 2.0, 136815: 2.0, 136816: 4.0, 136817: 4.0, 136818: 4.0, 136819: 3.0, 136820: 4.0, 136821: 4.0, 136822: 3.0, 136823: 3.0, 136824: 3.0, 136825: 3.0, 136826: 4.0, 136827: 4.0, 136828: 4.0, 136829: 3.0, 136830: 4.0, 136831: 4.0, 136832: 4.0, 136833: 4.0, 136834: 4.0, 136835: 4.0, 136836: 3.0, 136837: 3.0, 136838: 3.0, 136839: 2.0, 136840: 3.0, 136841: 4.0, 136842: 4.0, 136843: 2.0, 136844: 4.0, 136845: 4.0, 136846: 3.0, 136847: 4.0, 136848: 3.0, 136849: 4.0, 136850: 4.0, 136851: 4.0, 136852: 4.0, 136853: 2.0, 136854: 3.0, 136855: 3.0, 136856: 3.0, 136857: 3.0, 136858: 3.0, 136859: 3.0, 136860: 4.0, 136861: 4.0, 136862: 2.0, 136863: 2.0, 136864: 2.0, 136865: 2.0, 136866: 2.0, 136867: 2.0, 136868: 2.0, 136869: 2.0, 136870: 3.0, 136871: 3.0, 136872: 3.0, 136873: 3.0, 136874: 3.0, 136875: 3.0, 136876: 3.0, 136877: 3.0, 136878: 3.0, 136879: 3.0, 136880: 2.0, 136881: 2.0, 136882: 2.0, 136883: 2.0, 136884: 4.0, 136885: 4.0, 136886: 4.0, 136887: 2.0, 136888: 2.0, 136889: 2.0, 136890: 2.0, 136891: 3.0, 136892: 3.0, 136893: 3.0, 136894: 3.0, 136895: 3.0, 136896: 3.0, 136897: 3.0, 136898: 3.0, 136899: 2.0, 136900: 2.0, 136901: 2.0, 136902: 2.0, 136903: 3.0, 136904: 3.0, 136905: 3.0, 136906: 3.0, 136907: 3.0, 136908: 3.0, 136909: 8.0, 136910: 8.0, 136911: 8.0, 136912: 3.0, 136913: 3.0, 136914: 3.0, 136915: 2.0, 136916: 2.0, 136917: 2.0, 136918: 3.0, 136919: 3.0, 136920: 2.0, 136921: 2.0, 136922: 3.0, 136923: 3.0, 136924: 3.0, 136925: 3.0, 136926: 3.0, 136927: 4.0, 136928: 4.0, 136929: 4.0, 136930: 4.0, 136931: 4.0, 136932: 4.0, 136933: 8.0, 136934: 8.0, 136935: 4.0, 136936: 4.0, 136937: 6.0, 136938: 6.0, 136939: 6.0, 136940: 4.0, 136941: 3.0, 136942: 4.0, 136943: 4.0, 136944: 4.0, 136945: 4.0, 136946: 4.0, 136947: 4.0, 136948: 3.0, 136949: 6.0, 136950: 6.0, 136951: 6.0, 136952: 6.0, 136953: 2.0, 136954: 3.0, 136955: 4.0, 136956: 6.0, 136957: 8.0, 136958: 4.0, 136959: 6.0, 136960: 4.0, 136961: 3.0, 136962: 4.0, 136963: 3.0, 136964: 3.0, 136965: 2.0, 136966: 3.0, 136967: 4.0, 136968: 6.0, 136969: 6.0, 136970: 4.0, 136971: 4.0, 136972: 8.0, 136973: 4.0, 136974: 2.0, 136975: 3.0, 136976: 8.0, 136977: 2.0, 136978: 3.0, 136979: 2.0, 136980: 2.0, 136981: 2.0, 136982: 2.0, 136983: 2.0, 136984: 2.0, 136985: 2.0, 136986: 2.0, 136987: 2.0, 136988: 2.0, 136989: 2.0, 136990: 2.0, 136991: 2.0, 136992: 3.0, 136993: 3.0, 136994: 2.0, 136995: 2.0, 136996: 2.0, 136997: 2.0, 136998: 2.0, 136999: 2.0, 137000: 2.0, 137001: 2.0, 137002: 2.0, 137003: 2.0, 137004: 2.0, 137005: 2.0, 137006: 2.0, 137007: 2.0, 137008: 2.0, 137009: 2.0, 137010: 2.0, 137011: 2.0, 137012: 2.0, 137013: 2.0, 137014: 2.0, 137015: 2.0, 137016: 2.0, 137017: 2.0, 137018: 2.0, 137019: 2.0, 137020: 2.0, 137021: 2.0, 137022: 2.0, 137023: 2.0, 137024: 2.0, 137025: 2.0, 137026: 2.0, 137027: 2.0, 137028: 2.0, 137029: 2.0, 137030: 2.0, 137031: 2.0, 137032: 3.0, 137033: 3.0, 137034: 3.0, 137035: 3.0, 137036: 3.0, 137037: 3.0, 137038: 3.0, 137039: 3.0, 137040: 2.0, 137041: 2.0, 137042: 3.0, 137043: 3.0, 137044: 3.0, 137045: 3.0, 137046: 3.0, 137047: 3.0, 137048: 4.0, 137049: 4.0, 137050: 3.0, 137051: 3.0, 137052: 3.0, 137053: 3.0, 137054: 4.0, 137055: 4.0, 137056: 3.0, 137057: 3.0, 137058: 3.0, 137059: 3.0, 137060: 2.0, 137061: 3.0, 137062: 3.0, 137063: 3.0, 137064: 3.0, 137065: 3.0, 137066: 2.0, 137067: 2.0, 137068: 3.0, 137069: 3.0, 137070: 3.0, 137071: 3.0, 137072: 3.0, 137073: 3.0, 137074: 3.0, 137075: 3.0, 137076: 3.0, 137077: 3.0, 137078: 3.0, 137079: 3.0, 137080: 3.0, 137081: 3.0, 137082: 3.0, 137083: 3.0, 137084: 3.0, 137085: 3.0, 137086: 3.0, 137087: 3.0, 137088: 3.0, 137089: 3.0, 137090: 3.0, 137091: 3.0, 137092: 3.0, 137093: 3.0, 137094: 3.0, 137095: 3.0, 137096: 3.0, 137097: 4.0, 137098: 4.0, 137099: 4.0, 137100: 2.0, 137101: 4.0, 137102: 4.0, 137103: 4.0, 137104: 4.0, 137105: 4.0, 137106: 3.0, 137107: 4.0, 137108: 4.0, 137109: 3.0, 137110: 4.0, 137111: 4.0, 137112: 4.0, 137113: 4.0, 137114: 4.0, 137115: 4.0, 137116: 4.0, 137117: 4.0, 137118: 4.0, 137119: 3.0, 137120: 4.0, 137121: 4.0, 137122: 4.0, 137123: 4.0, 137124: 4.0, 137125: 4.0, 137126: 4.0, 137127: 4.0, 137128: 4.0, 137129: 3.0, 137130: 3.0, 137131: 3.0, 137132: 3.0, 137133: 3.0, 137134: 3.0, 137135: 4.0, 137136: 4.0, 137137: 4.0, 137138: 4.0, 137139: 4.0, 137140: 4.0, 137141: 2.0, 137142: 2.0, 137143: 2.0, 137144: 4.0, 137145: 3.0, 137146: 3.0, 137147: 3.0, 137148: 3.0, 137149: 4.0, 137150: 4.0, 137151: 3.0, 137152: 3.0, 137153: 3.0, 137154: 3.0, 137155: 3.0, 137156: 3.0, 137157: 3.0, 137158: 3.0, 137159: 3.0, 137160: 3.0, 137161: 3.0, 137162: 3.0, 137163: 3.0, 137164: 3.0, 137165: 3.0, 137166: 3.0, 137167: 3.0, 137168: 3.0, 137169: 3.0, 137170: 3.0, 137171: 4.0, 137172: 2.0, 137173: 2.0, 137174: 2.0, 137175: 3.0, 137176: 3.0, 137177: 3.0, 137178: 2.0, 137179: 2.0, 137180: 2.0, 137181: 2.0, 137182: 2.0, 137183: 2.0, 137184: 3.0, 137185: 3.0, 137186: 3.0, 137187: 3.0, 137188: 3.0, 137189: 3.0, 137190: 3.0, 137191: 3.0, 137192: 3.0, 137193: 3.0, 137194: 3.0, 137195: 3.0, 137196: 3.0, 137197: 4.0, 137198: 3.0, 137199: 3.0, 137200: 3.0, 137201: 3.0, 137202: 3.0, 137203: 3.0, 137204: 3.0, 137205: 3.0, 137206: 3.0, 137207: 3.0, 137208: 3.0, 137209: 3.0, 137210: 3.0, 137211: 3.0, 137212: 2.0, 137213: 2.0, 137214: 2.0, 137215: 2.0, 137216: 2.0, 137217: 2.0, 137218: 2.0, 137219: 2.0, 137220: 2.0, 137221: 2.0, 137222: 3.0, 137223: 2.0, 137224: 2.0, 137225: 3.0, 137226: 2.0, 137227: 2.0, 137228: 3.0, 137229: 3.0, 137230: 3.0, 137231: 3.0, 137232: 3.0, 137233: 3.0, 137234: 3.0, 137235: 2.0, 137236: 2.0, 137237: 3.0, 137238: 2.0, 137239: 2.0, 137240: 3.0, 137241: 3.0, 137242: 3.0, 137243: 3.0, 137244: 3.0, 137245: 3.0, 137246: 2.0, 137247: 2.0, 137248: 2.0, 137249: 2.0, 137250: 2.0, 137251: 2.0, 137252: 2.0, 137253: 2.0, 137254: 2.0, 137255: 2.0, 137256: 3.0, 137257: 3.0, 137258: 3.0, 137259: 3.0, 137260: 3.0, 137261: 3.0, 137262: 3.0, 137263: 3.0, 137264: 3.0, 137265: 3.0, 137266: 3.0, 137267: 3.0, 137268: 3.0, 137269: 3.0, 137270: 3.0, 137271: 3.0, 137272: 3.0, 137273: 2.0, 137274: 2.0, 137275: 2.0, 137276: 4.0, 137277: 4.0, 137278: 4.0, 137279: 4.0, 137280: 3.0, 137281: 3.0, 137282: 3.0, 137283: 3.0, 137284: 3.0, 137285: 3.0, 137286: 3.0, 137287: 3.0, 137288: 3.0, 137289: 4.0, 137290: 4.0, 137291: 4.0, 137292: 4.0, 137293: 4.0, 137294: 4.0, 137295: 3.0, 137296: 3.0, 137297: 3.0, 137298: 3.0, 137299: 3.0, 137300: 3.0, 137301: 3.0, 137302: 3.0, 137303: 3.0, 137304: 3.0, 137305: 3.0, 137306: 3.0, 137307: 3.0, 137308: 3.0, 137309: 3.0, 137310: 3.0, 137311: 3.0, 137312: 3.0, 137313: 4.0, 137314: 4.0, 137315: 4.0, 137316: 4.0, 137317: 4.0, 137318: 3.0, 137319: 3.0, 137320: 3.0, 137321: 3.0, 137322: 3.0, 137323: 4.0, 137324: 4.0, 137325: 4.0, 137326: 4.0, 137327: 3.0, 137328: 3.0, 137329: 2.0, 137330: 2.0, 137331: 3.0, 137332: 3.0, 137333: 4.0, 137334: 2.0, 137335: 3.0, 137336: 2.0, 137337: 3.0, 137338: 3.0, 137339: 3.0, 137340: 4.0, 137341: 3.0, 137342: 4.0, 137343: 4.0, 137344: 4.0, 137345: 4.0, 137346: 3.0, 137347: 3.0, 137348: 3.0, 137349: 2.0, 137350: 3.0, 137351: 3.0, 137352: 3.0, 137353: 3.0, 137354: 4.0, 137355: 2.0, 137356: 4.0, 137357: 4.0, 137358: 3.0, 137359: 3.0, 137360: 3.0, 137361: 3.0, 137362: 2.0, 137363: 3.0, 137364: 3.0, 137365: 3.0, 137366: 3.0, 137367: 3.0, 137368: 3.0, 137369: 3.0, 137370: 3.0, 137371: 3.0, 137372: 3.0, 137373: 3.0, 137374: 3.0, 137375: 3.0, 137376: 3.0, 137377: 3.0, 137378: 3.0, 137379: 3.0, 137380: 2.0, 137381: 2.0, 137382: 2.0, 137383: 2.0, 137384: 2.0, 137385: 2.0, 137386: 3.0, 137387: 3.0, 137388: 3.0, 137389: 3.0, 137390: 3.0, 137391: 2.0, 137392: 2.0, 137393: 2.0, 137394: 2.0, 137395: 3.0, 137396: 3.0, 137397: 3.0, 137398: 3.0, 137399: 3.0, 137400: 3.0, 137401: 2.0, 137402: 2.0, 137403: 2.0, 137404: 2.0, 137405: 2.0, 137406: 2.0, 137407: 3.0, 137408: 3.0, 137409: 3.0, 137410: 3.0, 137411: 2.0, 137412: 2.0, 137413: 2.0, 137414: 3.0, 137415: 3.0, 137416: 3.0, 137417: 3.0, 137418: 3.0, 137419: 3.0, 137420: 2.0, 137421: 2.0, 137422: 2.0, 137423: 2.0, 137424: 2.0, 137425: 2.0, 137426: 3.0, 137427: 3.0, 137428: 3.0, 137429: 3.0, 137430: 2.0, 137431: 2.0, 137432: 2.0, 137433: 3.0, 137434: 3.0, 137435: 3.0, 137436: 3.0, 137437: 3.0, 137438: 3.0, 137439: 4.0, 137440: 4.0, 137441: 4.0, 137442: 3.0, 137443: 3.0, 137444: 3.0, 137445: 3.0, 137446: 3.0, 137447: 2.0, 137448: 2.0, 137449: 2.0, 137450: 2.0, 137451: 2.0, 137452: 2.0, 137453: 2.0, 137454: 3.0, 137455: 3.0, 137456: 2.0, 137457: 2.0, 137458: 2.0, 137459: 2.0, 137460: 2.0, 137461: 4.0, 137462: 4.0, 137463: 2.0, 137464: 2.0, 137465: 2.0, 137466: 3.0, 137467: 2.0, 137468: 2.0, 137469: 2.0, 137470: 2.0, 137471: 2.0, 137472: 2.0, 137473: 2.0, 137474: 2.0, 137475: 2.0, 137476: 2.0, 137477: 2.0, 137478: 2.0, 137479: 2.0, 137480: 2.0, 137481: 2.0, 137482: 2.0, 137483: 2.0, 137484: 2.0, 137485: 2.0, 137486: 2.0, 137487: 2.0, 137488: 3.0, 137489: 3.0, 137490: 3.0, 137491: 3.0, 137492: 2.0, 137493: 2.0, 137494: 2.0, 137495: 2.0, 137496: 2.0, 137497: 2.0, 137498: 2.0, 137499: 2.0, 137500: 2.0, 137501: 2.0, 137502: 3.0, 137503: 3.0, 137504: 3.0, 137505: 3.0, 137506: 3.0, 137507: 2.0, 137508: 2.0, 137509: 2.0, 137510: 2.0, 137511: 2.0, 137512: 2.0, 137513: 2.0, 137514: 2.0, 137515: 2.0, 137516: 2.0, 137517: 2.0, 137518: 2.0, 137519: 2.0, 137520: 3.0, 137521: 3.0, 137522: 6.0, 137523: 4.0, 137524: 4.0, 137525: 4.0, 137526: 4.0, 137527: 4.0, 137528: 3.0, 137529: 3.0, 137530: 3.0, 137531: 3.0, 137532: 3.0, 137533: 3.0, 137534: 3.0, 137535: 3.0, 137536: 3.0, 137537: 3.0, 137538: 3.0, 137539: 3.0, 137540: 3.0, 137541: 3.0, 137542: 2.0, 137543: 2.0, 137544: 3.0, 137545: 3.0, 137546: 3.0, 137547: 3.0, 137548: 3.0, 137549: 3.0, 137550: 3.0, 137551: 3.0, 137552: 3.0, 137553: 6.0, 137554: 6.0, 137555: 4.0, 137556: 4.0, 137557: 4.0, 137558: 4.0, 137559: 4.0, 137560: 4.0, 137561: 4.0, 137562: 4.0, 137563: 4.0, 137564: 4.0, 137565: 3.0, 137566: 3.0, 137567: 3.0, 137568: 3.0, 137569: 3.0, 137570: 2.0, 137571: 2.0, 137572: 2.0, 137573: 2.0, 137574: 2.0, 137575: 3.0, 137576: 3.0, 137577: 3.0, 137578: 3.0, 137579: 3.0, 137580: 3.0, 137581: 3.0, 137582: 3.0, 137583: 3.0, 137584: 3.0, 137585: 3.0, 137586: 3.0, 137587: 3.0, 137588: 3.0, 137589: 3.0, 137590: 3.0, 137591: 2.0, 137592: 3.0, 137593: 3.0, 137594: 2.0, 137595: 2.0, 137596: 4.0, 137597: 2.0, 137598: 3.0, 137599: 2.0, 137600: 2.0, 137601: 2.0, 137602: 3.0, 137603: 3.0, 137604: 3.0, 137605: 2.0, 137606: 2.0, 137607: 3.0, 137608: 2.0, 137609: 4.0, 137610: 3.0, 137611: 3.0, 137612: 3.0, 137613: 3.0, 137614: 3.0, 137615: 3.0, 137616: 3.0, 137617: 3.0, 137618: 3.0, 137619: 3.0, 137620: 3.0, 137621: 3.0, 137622: 3.0, 137623: 3.0, 137624: 3.0, 137625: 3.0, 137626: 3.0, 137627: 3.0, 137628: 3.0, 137629: 3.0, 137630: 3.0, 137631: 2.0, 137632: 4.0, 137633: 4.0, 137634: 2.0, 137635: 3.0, 137636: 3.0, 137637: 3.0, 137638: 3.0, 137639: 2.0, 137640: 3.0, 137641: 6.0, 137642: 6.0, 137643: 3.0, 137644: 3.0, 137645: 3.0, 137646: 3.0, 137647: 3.0, 137648: 3.0, 137649: 3.0, 137650: 3.0, 137651: 2.0, 137652: 3.0, 137653: 3.0, 137654: 3.0, 137655: 3.0, 137656: 3.0, 137657: 3.0, 137658: 3.0, 137659: 3.0, 137660: 3.0, 137661: 3.0, 137662: 3.0, 137663: 3.0, 137664: 3.0, 137665: 3.0, 137666: 3.0, 137667: 3.0, 137668: 3.0, 137669: 3.0, 137670: 3.0, 137671: 3.0, 137672: 3.0, 137673: 4.0, 137674: 2.0, 137675: 2.0, 137676: 2.0, 137677: 2.0, 137678: 2.0, 137679: 2.0, 137680: 2.0, 137681: 2.0, 137682: 2.0, 137683: 2.0, 137684: 2.0, 137685: 3.0, 137686: 3.0, 137687: 3.0, 137688: 3.0, 137689: 3.0, 137690: 3.0, 137691: 3.0, 137692: 3.0, 137693: 3.0, 137694: 3.0, 137695: 2.0, 137696: 2.0, 137697: 2.0, 137698: 3.0, 137699: 3.0, 137700: 3.0, 137701: 2.0, 137702: 2.0, 137703: 3.0, 137704: 3.0, 137705: 3.0, 137706: 3.0, 137707: 3.0, 137708: 2.0, 137709: 2.0, 137710: 3.0, 137711: 2.0, 137712: 3.0, 137713: 3.0, 137714: 3.0, 137715: 3.0, 137716: 3.0, 137717: 3.0, 137718: 4.0, 137719: 4.0, 137720: 4.0, 137721: 4.0, 137722: 4.0, 137723: 4.0, 137724: 4.0, 137725: 3.0, 137726: 3.0, 137727: 3.0, 137728: 2.0, 137729: 4.0, 137730: 4.0, 137731: 4.0, 137732: 3.0, 137733: 3.0, 137734: 3.0, 137735: 3.0, 137736: 3.0, 137737: 3.0, 137738: 3.0, 137739: 3.0, 137740: 3.0, 137741: 3.0, 137742: 3.0, 137743: 3.0, 137744: 3.0, 137745: 3.0, 137746: 3.0, 137747: 3.0, 137748: 3.0, 137749: 3.0, 137750: 4.0, 137751: 3.0, 137752: 4.0, 137753: 3.0, 137754: 3.0, 137755: 4.0, 137756: 4.0, 137757: 4.0, 137758: 2.0, 137759: 2.0, 137760: 2.0, 137761: 2.0, 137762: 2.0, 137763: 2.0, 137764: 2.0, 137765: 2.0, 137766: 2.0, 137767: 2.0, 137768: 3.0, 137769: 3.0, 137770: 3.0, 137771: 3.0, 137772: 3.0, 137773: 3.0, 137774: 3.0, 137775: 3.0, 137776: 4.0, 137777: 4.0, 137778: 4.0, 137779: 4.0, 137780: 3.0, 137781: 3.0, 137782: 3.0, 137783: 3.0, 137784: 4.0, 137785: 4.0, 137786: 3.0, 137787: 3.0, 137788: 3.0, 137789: 3.0, 137790: 4.0, 137791: 4.0, 137792: 4.0, 137793: 4.0, 137794: 4.0, 137795: 5.0, 137796: 5.0, 137797: 5.0, 137798: 5.0, 137799: 5.0, 137800: 5.0, 137801: 3.0, 137802: 3.0, 137803: 4.0, 137804: 4.0, 137805: 4.0, 137806: 2.0, 137807: 2.0, 137808: 2.0, 137809: 4.0, 137810: 4.0, 137811: 2.0, 137812: 3.0, 137813: 4.0, 137814: 4.0, 137815: 4.0, 137816: 5.0, 137817: 3.0, 137818: 3.0, 137819: 3.0, 137820: 2.0, 137821: 4.0, 137822: 4.0, 137823: 4.0, 137824: 4.0, 137825: 4.0, 137826: 4.0, 137827: 4.0, 137828: 4.0, 137829: 3.0, 137830: 3.0, 137831: 4.0, 137832: 4.0, 137833: 4.0, 137834: 3.0, 137835: 4.0, 137836: 3.0, 137837: 3.0, 137838: 3.0, 137839: 4.0, 137840: 3.0, 137841: 3.0, 137842: 3.0, 137843: 3.0, 137844: 3.0, 137845: 3.0, 137846: 3.0, 137847: 3.0, 137848: 3.0, 137849: 3.0, 137850: 3.0, 137851: 3.0, 137852: 2.0, 137853: 2.0, 137854: 2.0, 137855: 2.0, 137856: 3.0, 137857: 3.0, 137858: 3.0, 137859: 3.0, 137860: 3.0, 137861: 2.0, 137862: 2.0, 137863: 4.0, 137864: 3.0, 137865: 3.0, 137866: 3.0, 137867: 4.0, 137868: 3.0, 137869: 3.0, 137870: 3.0, 137871: 3.0, 137872: 4.0, 137873: 3.0, 137874: 3.0, 137875: 3.0, 137876: 3.0, 137877: 3.0, 137878: 3.0, 137879: 4.0, 137880: 2.0, 137881: 3.0, 137882: 3.0, 137883: 2.0, 137884: 2.0, 137885: 2.0, 137886: 2.0, 137887: 3.0, 137888: 3.0, 137889: 3.0, 137890: 3.0, 137891: 3.0, 137892: 3.0, 137893: 3.0, 137894: 2.0, 137895: 3.0, 137896: 3.0, 137897: 3.0, 137898: 3.0, 137899: 3.0, 137900: 3.0, 137901: 3.0, 137902: 3.0, 137903: 3.0, 137904: 3.0, 137905: 3.0, 137906: 2.0, 137907: 2.0, 137908: 3.0, 137909: 3.0, 137910: 3.0, 137911: 3.0, 137912: 3.0, 137913: 2.0, 137914: 2.0, 137915: 3.0, 137916: 3.0, 137917: 3.0, 137918: 3.0, 137919: 4.0, 137920: 3.0, 137921: 3.0, 137922: 3.0, 137923: 3.0, 137924: 2.0, 137925: 3.0, 137926: 3.0, 137927: 3.0, 137928: 3.0, 137929: 3.0, 137930: 3.0, 137931: 3.0, 137932: 3.0, 137933: 3.0, 137934: 3.0, 137935: 2.0, 137936: 2.0, 137937: 2.0, 137938: 3.0, 137939: 4.0, 137940: 4.0, 137941: 3.0, 137942: 3.0, 137943: 3.0, 137944: 4.0, 137945: 4.0, 137946: 3.0, 137947: 3.0, 137948: 3.0, 137949: 4.0, 137950: 4.0, 137951: 4.0, 137952: 4.0, 137953: 4.0, 137954: 4.0, 137955: 4.0, 137956: 4.0, 137957: 3.0, 137958: 3.0, 137959: 3.0, 137960: 4.0, 137961: 3.0, 137962: 4.0, 137963: 4.0, 137964: 4.0, 137965: 4.0, 137966: 4.0, 137967: 4.0, 137968: 2.0, 137969: 3.0, 137970: 3.0, 137971: 3.0, 137972: 4.0, 137973: 4.0, 137974: 4.0, 137975: 3.0, 137976: 4.0, 137977: 4.0, 137978: 3.0, 137979: 2.0, 137980: 4.0, 137981: 2.0, 137982: 4.0, 137983: 3.0, 137984: 3.0, 137985: 2.0, 137986: 3.0, 137987: 3.0, 137988: 3.0, 137989: 4.0, 137990: 2.0, 137991: 3.0, 137992: 2.0, 137993: 4.0, 137994: 3.0, 137995: 2.0, 137996: 3.0, 137997: 3.0, 137998: 3.0, 137999: 3.0, 138000: 3.0, 138001: 3.0, 138002: 3.0, 138003: 3.0, 138004: 3.0, 138005: 3.0, 138006: 3.0, 138007: 3.0, 138008: 3.0, 138009: 3.0, 138010: 3.0, 138011: 3.0, 138012: 3.0, 138013: 3.0, 138014: 3.0, 138015: 3.0, 138016: 3.0, 138017: 3.0, 138018: 3.0, 138019: 3.0, 138020: 3.0, 138021: 3.0, 138022: 3.0, 138023: 3.0, 138024: 3.0, 138025: 3.0, 138026: 3.0, 138027: 3.0, 138028: 3.0, 138029: 3.0, 138030: 3.0, 138031: 3.0, 138032: 3.0, 138033: 3.0, 138034: 3.0, 138035: 3.0, 138036: 4.0, 138037: 4.0, 138038: 2.0, 138039: 3.0, 138040: 3.0, 138041: 3.0, 138042: 3.0, 138043: 2.0, 138044: 2.0, 138045: 3.0, 138046: 3.0, 138047: 3.0, 138048: 3.0, 138049: 3.0, 138050: 3.0, 138051: 3.0, 138052: 3.0, 138053: 3.0, 138054: 3.0, 138056: 4.0, 138057: 4.0, 138058: 4.0, 138059: 3.0, 138060: 3.0, 138061: 2.0, 138062: 2.0, 138064: 3.0, 138065: 2.0, 138066: 4.0, 138067: 3.0, 138068: 3.0, 138069: 3.0, 138070: 2.0, 138071: 2.0, 138072: 2.0, 138073: 3.0, 138074: 3.0, 138076: 3.0, 138077: 3.0, 138079: 2.0, 138080: 2.0, 138081: 3.0, 138082: 4.0, 138083: 4.0, 138084: 4.0, 138085: 4.0, 138086: 4.0, 138087: 4.0, 138088: 4.0, 138089: 2.0, 138090: 4.0, 138091: 2.0, 138092: 2.0, 138093: 4.0, 138094: 2.0, 138095: 4.0, 138096: 2.0, 138097: 2.0, 138098: 2.0, 138099: 3.0, 138100: 4.0, 138102: 2.0, 138103: 2.0, 138104: 4.0, 138105: 4.0, 138106: 2.0, 138107: 3.0, 138108: 2.0, 138109: 4.0, 138110: 2.0, 138111: 2.0, 138112: 2.0, 138113: 2.0, 138116: 4.0, 138118: 3.0, 138119: 4.0, 138120: 2.0, 138121: 2.0, 138122: 3.0, 138123: 3.0, 138124: 3.0, 138125: 3.0, 138126: 3.0, 138127: 3.0, 138128: 3.0, 138129: 2.0, 138130: 4.0, 138131: 2.0, 138132: 2.0, 138133: 2.0, 138134: 2.0, 138135: 2.0, 138136: 2.0, 138137: 3.0, 138138: 3.0, 138139: 3.0, 138140: 3.0, 138141: 3.0, 138142: 3.0, 138143: 3.0, 138144: 3.0, 138145: 3.0, 138146: 3.0, 138147: 3.0, 138148: 3.0, 138149: 4.0, 138150: 4.0, 138151: 4.0, 138152: 3.0, 138153: 3.0, 138154: 3.0, 138155: 3.0, 138156: 3.0, 138157: 3.0, 138158: 3.0, 138159: 3.0, 138160: 4.0, 138161: 3.0, 138162: 3.0, 138163: 3.0, 138164: 3.0, 138165: 3.0, 138166: 4.0, 138167: 4.0, 138168: 4.0, 138169: 4.0, 138170: 3.0, 138171: 3.0, 138172: 3.0, 138173: 3.0, 138174: 2.0, 138175: 3.0, 138176: 3.0, 138177: 2.0, 138178: 3.0, 138179: 3.0, 138180: 3.0, 138181: 2.0, 138182: 2.0, 138183: 3.0, 138184: 2.0, 138185: 2.0, 138186: 3.0, 138187: 3.0, 138188: 3.0, 138189: 3.0, 138190: 3.0, 138191: 3.0, 138192: 2.0, 138193: 3.0, 138194: 2.0, 138195: 3.0, 138196: 3.0, 138197: 4.0, 138198: 2.0, 138199: 4.0, 138200: 4.0, 138201: 4.0, 138202: 3.0, 138203: 4.0, 138204: 3.0, 138205: 2.0, 138206: 2.0, 138207: 2.0, 138208: 2.0, 138209: 2.0, 138210: 2.0, 138211: 2.0, 138212: 2.0, 138213: 2.0, 138214: 2.0, 138215: 2.0, 138216: 2.0, 138217: 2.0, 138218: 2.0, 138219: 2.0, 138220: 3.0, 138221: 3.0, 138222: 4.0, 138223: 4.0, 138224: 4.0, 138225: 3.0, 138226: 3.0, 138227: 3.0, 138228: 3.0, 138229: 3.0, 138230: 2.0, 138231: 3.0, 138232: 3.0, 138233: 3.0, 138234: 3.0, 138235: 4.0, 138236: 4.0, 138237: 3.0, 138238: 3.0, 138239: 3.0, 138240: 3.0, 138241: 3.0, 138242: 3.0, 138243: 3.0, 138244: 3.0, 138245: 3.0, 138246: 2.0, 138247: 3.0, 138248: 2.0, 138249: 3.0, 138250: 3.0, 138251: 3.0, 138252: 2.0, 138253: 3.0, 138254: 3.0, 138255: 3.0, 138256: 3.0, 138257: 2.0, 138258: 2.0, 138259: 2.0, 138260: 2.0, 138261: 2.0, 138262: 2.0, 138263: 3.0, 138264: 2.0, 138265: 2.0, 138266: 2.0, 138267: 2.0, 138268: 3.0, 138269: 3.0, 138270: 3.0, 138271: 3.0, 138272: 3.0, 138273: 3.0, 138274: 3.0, 138275: 3.0, 138276: 3.0, 138277: 3.0, 138278: 3.0, 138279: 3.0, 138280: 3.0, 138281: 3.0, 138282: 3.0, 138283: 3.0, 138284: 4.0, 138285: 4.0, 138286: 4.0, 138287: 2.0, 138288: 3.0, 138289: 3.0, 138290: 3.0, 138291: 3.0, 138292: 2.0, 138293: 3.0, 138294: 4.0, 138295: 3.0, 138296: 3.0, 138297: 3.0, 138298: 3.0, 138299: 3.0, 138300: 3.0, 138301: 3.0, 138302: 2.0, 138303: 3.0, 138304: 2.0, 138305: 4.0, 138306: 2.0, 138307: 2.0, 138308: 2.0, 138309: 2.0, 138310: 3.0, 138311: 3.0, 138312: 3.0, 138313: 3.0, 138314: 3.0, 138315: 3.0, 138316: 3.0, 138317: 3.0, 138318: 3.0, 138319: 3.0, 138320: 2.0, 138321: 3.0, 138322: 3.0, 138323: 3.0, 138324: 3.0, 138325: 3.0, 138326: 2.0, 138327: 2.0, 138328: 2.0, 138329: 3.0, 138330: 3.0, 138331: 2.0, 138332: 3.0, 138333: 2.0, 138334: 3.0, 138335: 3.0, 138336: 2.0, 138337: 3.0, 138338: 4.0, 138339: 2.0, 138340: 2.0, 138341: 3.0, 138342: 3.0, 138343: 3.0, 138344: 3.0, 138345: 4.0, 138346: 4.0, 138347: 4.0, 138348: 4.0, 138349: 4.0, 138350: 4.0, 138351: 4.0, 138352: 4.0, 138353: 4.0, 138354: 4.0, 138355: 3.0, 138356: 3.0, 138357: 2.0, 138358: 2.0, 138359: 2.0, 138360: 4.0, 138361: 2.0, 138362: 3.0, 138363: 3.0, 138364: 3.0, 138365: 2.0, 138366: 2.0, 138367: 3.0, 138368: 3.0, 138369: 3.0, 138370: 3.0, 138371: 3.0, 138372: 3.0, 138373: 3.0, 138374: 3.0, 138375: 3.0, 138376: 2.0, 138377: 4.0, 138378: 4.0, 138379: 4.0, 138380: 2.0, 138381: 3.0, 138382: 3.0, 138384: 2.0, 138385: 2.0, 138386: 3.0, 138387: 3.0, 138388: 3.0, 138389: 2.0, 138390: 2.0, 138391: 2.0, 138392: 2.0, 138393: 3.0, 138394: 3.0, 138395: 4.0, 138396: 3.0, 138397: 2.0, 138398: 3.0, 138399: 2.0, 138400: 3.0, 138401: 3.0, 138402: 2.0, 138403: 3.0, 138404: 3.0, 138405: 3.0, 138406: 3.0, 138407: 2.0, 138408: 8.0, 138409: 2.0, 138410: 3.0, 138411: 3.0, 138412: 3.0, 138413: 4.0, 138414: 4.0, 138415: 3.0, 138416: 3.0, 138417: 4.0, 138418: 3.0, 138419: 4.0, 138420: 4.0, 138421: 4.0, 138422: 4.0, 138423: 3.0, 138424: 4.0, 138425: 4.0, 138426: 3.0, 138427: 3.0, 138428: 4.0, 138429: 4.0, 138430: 3.0, 138431: 3.0, 138432: 4.0, 138433: 4.0, 138434: 2.0, 138435: 3.0, 138436: 4.0, 138437: 2.0, 138438: 2.0, 138439: 4.0, 138440: 3.0, 138441: 4.0, 138442: 2.0, 138443: 4.0, 138444: 3.0, 138445: 3.0, 138446: 3.0, 138447: 4.0, 138448: 4.0, 138449: 4.0, 138450: 3.0, 138451: 3.0, 138452: 4.0, 138453: 3.0, 138454: 2.0, 138455: 4.0, 138456: 4.0, 138457: 4.0, 138458: 4.0, 138459: 4.0, 138460: 4.0, 138461: 4.0, 138462: 3.0, 138463: 3.0, 138464: 3.0, 138465: 3.0, 138466: 3.0, 138467: 3.0, 138468: 3.0, 138469: 3.0, 138470: 3.0, 138471: 4.0, 138472: 3.0, 138473: 6.0, 138474: 3.0, 138475: 3.0, 138476: 3.0, 138477: 4.0, 138478: 3.0, 138479: 3.0, 138480: 3.0, 138481: 3.0, 138482: 3.0, 138483: 4.0, 138484: 4.0, 138485: 3.0, 138486: 4.0, 138487: 3.0, 138488: 3.0, 138489: 3.0, 138490: 3.0, 138491: 3.0, 138492: 3.0, 138493: 3.0, 138494: 3.0, 138495: 3.0, 138496: 3.0, 138497: 3.0, 138498: 4.0, 138499: 2.0, 138500: 2.0, 138501: 2.0, 138502: 3.0, 138503: 3.0, 138504: 3.0, 138505: 3.0, 138506: 3.0, 138507: 3.0, 138508: 3.0, 138509: 3.0, 138510: 3.0, 138511: 3.0, 138512: 3.0, 138513: 3.0, 138514: 3.0, 138515: 3.0, 138516: 3.0, 138517: 3.0, 138518: 3.0, 138519: 3.0, 138520: 3.0, 138521: 3.0, 138522: 3.0, 138523: 3.0, 138524: 3.0, 138525: 3.0, 138526: 3.0, 138527: 3.0, 138528: 3.0, 138529: 3.0, 138530: 3.0, 138531: 3.0, 138532: 3.0, 138533: 3.0, 138534: 3.0, 138535: 3.0, 138536: 3.0, 138537: 3.0, 138538: 3.0, 138539: 3.0, 138540: 3.0, 138541: 3.0, 138542: 3.0, 138543: 3.0, 138544: 3.0, 138545: 3.0, 138546: 3.0, 138547: 3.0, 138548: 3.0, 138549: 3.0, 138550: 3.0, 138551: 3.0, 138552: 3.0, 138553: 3.0, 138554: 3.0, 138555: 3.0, 138556: 3.0, 138557: 3.0, 138558: 3.0, 138559: 3.0, 138560: 3.0, 138561: 3.0, 138562: 3.0, 138563: 3.0, 138564: 3.0, 138565: 3.0, 138566: 3.0, 138567: 3.0, 138568: 3.0, 138569: 3.0, 138570: 3.0, 138571: 3.0, 138572: 3.0, 138573: 3.0, 138574: 3.0, 138575: 3.0, 138576: 3.0, 138577: 3.0, 138578: 3.0, 138579: 3.0, 138580: 3.0, 138581: 3.0, 138582: 3.0, 138583: 3.0, 138584: 3.0, 138585: 3.0, 138586: 3.0, 138587: 3.0, 138588: 3.0, 138589: 3.0, 138590: 3.0, 138591: 3.0, 138592: 3.0, 138593: 3.0, 138594: 3.0, 138595: 3.0, 138596: 3.0, 138597: 3.0, 138598: 3.0, 138599: 3.0, 138600: 3.0, 138601: 3.0, 138602: 3.0, 138603: 3.0, 138604: 3.0, 138605: 3.0, 138606: 3.0, 138607: 3.0, 138608: 3.0, 138609: 3.0, 138610: 3.0, 138611: 3.0, 138612: 3.0, 138613: 3.0, 138614: 3.0, 138615: 3.0, 138616: 3.0, 138617: 3.0, 138618: 3.0, 138619: 3.0, 138620: 3.0, 138621: 3.0, 138622: 3.0, 138623: 3.0, 138624: 3.0, 138625: 3.0, 138626: 3.0, 138627: 3.0, 138628: 3.0, 138629: 3.0, 138630: 3.0, 138631: 3.0, 138632: 3.0, 138633: 3.0, 138634: 3.0, 138635: 3.0, 138636: 3.0, 138637: 3.0, 138638: 3.0, 138639: 3.0, 138640: 3.0, 138641: 3.0, 138642: 3.0, 138643: 3.0, 138644: 3.0, 138645: 3.0, 138646: 3.0, 138647: 3.0, 138648: 3.0, 138649: 3.0, 138650: 3.0, 138651: 3.0, 138652: 3.0, 138653: 3.0, 138654: 3.0, 138655: 3.0, 138656: 3.0, 138657: 3.0, 138658: 3.0, 138659: 3.0, 138660: 3.0, 138661: 3.0, 138662: 3.0, 138663: 3.0, 138664: 3.0, 138665: 3.0, 138666: 3.0, 138667: 3.0, 138668: 3.0, 138669: 3.0, 138670: 3.0, 138671: 3.0, 138672: 3.0, 138673: 3.0, 138674: 3.0, 138675: 3.0, 138676: 3.0, 138677: 3.0, 138678: 3.0, 138679: 3.0, 138680: 3.0, 138681: 3.0, 138682: 3.0, 138683: 3.0, 138684: 3.0, 138685: 3.0, 138686: 3.0, 138687: 3.0, 138688: 3.0, 138689: 3.0, 138690: 3.0, 138691: 3.0, 138692: 3.0, 138693: 3.0, 138694: 3.0, 138695: 3.0, 138696: 3.0, 138697: 3.0, 138698: 3.0, 138699: 3.0, 138700: 3.0, 138701: 3.0, 138702: 3.0, 138703: 3.0, 138704: 3.0, 138705: 3.0, 138706: 3.0, 138707: 3.0, 138708: 3.0, 138709: 3.0, 138710: 3.0, 138711: 3.0, 138712: 3.0, 138713: 3.0, 138714: 3.0, 138715: 3.0, 138716: 3.0, 138717: 3.0, 138718: 3.0, 138719: 3.0, 138720: 3.0, 138721: 3.0, 138722: 3.0, 138723: 3.0, 138724: 3.0, 138725: 3.0, 138726: 3.0, 138727: 3.0, 138728: 3.0, 138729: 3.0, 138730: 3.0, 138731: 3.0, 138732: 3.0, 138733: 3.0, 138734: 3.0, 138735: 3.0, 138736: 3.0, 138737: 3.0, 138738: 3.0, 138739: 3.0, 138740: 3.0, 138741: 3.0, 138742: 3.0, 138743: 3.0, 138744: 3.0, 138745: 3.0, 138746: 3.0, 138747: 3.0, 138748: 3.0, 138749: 3.0, 138750: 3.0, 138751: 3.0, 138752: 3.0, 138753: 3.0, 138754: 3.0, 138755: 3.0, 138756: 3.0, 138757: 3.0, 138758: 3.0, 138759: 3.0, 138760: 3.0, 138761: 3.0, 138762: 3.0, 138763: 3.0, 138764: 3.0, 138765: 3.0, 138766: 3.0, 138767: 3.0, 138768: 3.0, 138769: 3.0, 138770: 3.0, 138771: 3.0, 138772: 3.0, 138773: 3.0, 138774: 3.0, 138775: 3.0, 138776: 3.0, 138777: 3.0, 138778: 3.0, 138779: 3.0, 138780: 3.0, 138781: 3.0, 138782: 3.0, 138783: 3.0, 138784: 3.0, 138785: 3.0, 138786: 3.0, 138787: 3.0, 138788: 3.0, 138789: 3.0, 138790: 3.0, 138791: 3.0, 138792: 3.0, 138793: 3.0, 138794: 3.0, 138795: 3.0, 138796: 3.0, 138797: 3.0, 138798: 3.0, 138799: 3.0, 138800: 3.0, 138801: 3.0, 138802: 3.0, 138803: 3.0, 138804: 3.0, 138805: 3.0, 138806: 3.0, 138807: 3.0, 138808: 3.0, 138809: 3.0, 138810: 3.0, 138811: 3.0, 138812: 3.0, 138813: 3.0, 138814: 3.0, 138815: 3.0, 138816: 3.0, 138817: 3.0, 138818: 3.0, 138819: 3.0, 138820: 3.0, 138821: 3.0, 138822: 3.0, 138823: 3.0, 138824: 3.0, 138825: 3.0, 138826: 3.0, 138827: 3.0, 138828: 3.0, 138829: 3.0, 138830: 3.0, 138831: 3.0, 138832: 3.0, 138833: 3.0, 138834: 3.0, 138835: 3.0, 138836: 3.0, 138837: 3.0, 138838: 3.0, 138839: 3.0, 138840: 3.0, 138841: 3.0, 138842: 3.0, 138843: 3.0, 138844: 3.0, 138845: 3.0, 138846: 3.0, 138847: 3.0, 138848: 3.0, 138849: 3.0, 138850: 3.0, 138851: 3.0, 138852: 3.0, 138853: 3.0, 138854: 2.0, 138855: 2.0, 138856: 2.0, 138857: 2.0, 138858: 2.0, 138859: 2.0, 138860: 2.0, 138861: 2.0, 138862: 2.0, 138863: 2.0, 138864: 2.0, 138865: 2.0, 138866: 2.0, 138867: 2.0, 138868: 2.0, 138869: 2.0, 138870: 2.0, 138871: 2.0, 139043: 3.0, 139044: 3.0, 139045: 2.0, 139046: 3.0, 139047: 2.0, 139048: 3.0, 139049: 3.0, 139050: 3.0, 139051: 3.0, 139052: 3.0, 139053: 3.0, 139054: 3.0, 139055: 2.0, 139056: 2.0, 139057: 3.0, 139058: 3.0, 139059: 3.0, 139060: 3.0, 139061: 3.0, 139062: 4.0, 139063: 6.0, 139064: 3.0, 139065: 2.0, 139066: 3.0, 139067: 3.0, 139068: 3.0, 139069: 3.0, 139070: 3.0, 139071: 3.0, 139072: 4.0, 139073: 2.0, 139074: 3.0, 139075: 3.0, 139076: 3.0, 139077: 4.0, 139078: 3.0, 139079: 4.0, 139080: 3.0, 139081: 3.0, 139082: 2.0, 139083: 3.0, 139084: 4.0, 139085: 4.0, 139086: 4.0, 139087: 4.0, 139088: 4.0, 139089: 4.0, 139090: 4.0, 139091: 4.0, 139092: 4.0, 139093: 4.0, 139094: 4.0, 139095: 3.0, 139096: 3.0, 139097: 3.0, 139098: 3.0, 139099: 4.0, 139100: 4.0, 139101: 4.0, 139102: 4.0, 139103: 3.0, 139104: 4.0, 139105: 3.0, 139106: 4.0, 139107: 3.0, 139108: 4.0, 139109: 4.0, 139110: 4.0, 139111: 4.0, 139112: 3.0, 139113: 4.0, 139114: 3.0, 139115: 3.0, 139116: 3.0, 139117: 2.0, 139118: 3.0, 139119: 3.0, 139120: 3.0, 139121: 4.0, 139122: 3.0, 139123: 3.0, 139124: 3.0, 139125: 3.0, 139126: 3.0, 139127: 3.0, 139128: 2.0, 139129: 3.0, 139130: 3.0, 139131: 3.0, 139132: 3.0, 139133: 3.0, 139134: 3.0, 139135: 3.0, 139136: 3.0, 139137: 3.0, 139138: 3.0, 139139: 3.0, 139140: 3.0, 139141: 4.0, 139142: 4.0, 139143: 4.0, 139144: 2.0, 139145: 3.0, 139146: 2.0, 139147: 4.0, 139148: 3.0, 139149: 3.0, 139150: 2.0, 139151: 3.0, 139152: 3.0, 139153: 3.0, 139154: 3.0, 139155: 2.0, 139156: 3.0, 139157: 3.0, 139158: 4.0, 139159: 3.0, 139160: 3.0, 139161: 3.0}\n"
     ]
    }
   ],
   "source": [
    "num_periods_dict = schedule.groupby('Class ID').agg({'Num. Periods': 'sum'}).to_dict()['Num. Periods']\n",
    "schedule['Total Num. Periods'] = schedule['Class ID'].map(num_periods_dict)\n",
    "print(num_periods_dict)"
   ]
  },
  {
   "cell_type": "markdown",
   "metadata": {},
   "source": [
    "Vì trong miêu tả bài toán, một yêu cầu được đặt ra là một môn học cần được dạy xong hết trong 1 buổi, nên cần thiết loại bỏ những lớp học có Total Num. Periods lớn hơn 6. Trên thực tế, điều này khá phi lý, tuy nhiên, vì mục đích đã định sẵn của đồ án này, điều này là cần thiết."
   ]
  },
  {
   "cell_type": "code",
   "execution_count": 18,
   "metadata": {},
   "outputs": [
    {
     "name": "stdout",
     "output_type": "stream",
     "text": [
      "Total Num. Periods\n",
      "3.0    1607\n",
      "4.0     824\n",
      "2.0     632\n",
      "6.0      78\n",
      "5.0      46\n",
      "Name: count, dtype: int64\n",
      "<class 'pandas.core.frame.DataFrame'>\n",
      "Index: 3187 entries, 0 to 9292\n",
      "Data columns (total 15 columns):\n",
      " #   Column              Non-Null Count  Dtype  \n",
      "---  ------              --------------  -----  \n",
      " 0   Faculty             3187 non-null   object \n",
      " 1   Class ID            3187 non-null   int64  \n",
      " 2   Course ID           3187 non-null   object \n",
      " 3   Course Name         3187 non-null   object \n",
      " 4   Credits             3187 non-null   object \n",
      " 5   Session no.         3187 non-null   float64\n",
      " 6   Day                 3187 non-null   float64\n",
      " 7   Time                3187 non-null   object \n",
      " 8   Start               3187 non-null   float64\n",
      " 9   End                 3187 non-null   float64\n",
      " 10  Shift               3187 non-null   object \n",
      " 11  Classroom           3039 non-null   object \n",
      " 12  Num. Students       3187 non-null   int64  \n",
      " 13  Num. Periods        3187 non-null   float64\n",
      " 14  Total Num. Periods  3187 non-null   float64\n",
      "dtypes: float64(6), int64(2), object(7)\n",
      "memory usage: 398.4+ KB\n"
     ]
    }
   ],
   "source": [
    "schedule = schedule[schedule['Total Num. Periods'] <= 6]\n",
    "print(schedule['Total Num. Periods'].value_counts())\n",
    "schedule.info()"
   ]
  },
  {
   "cell_type": "code",
   "execution_count": 19,
   "metadata": {},
   "outputs": [],
   "source": [
    "schedule.to_csv('data/schedule_cleaned.csv', index=False)"
   ]
  },
  {
   "cell_type": "markdown",
   "metadata": {},
   "source": [
    "Từ đây, sẽ xuất ra 2 file csv, tương ứng là một file về các lớp học cần sắp xếp thời khóa biểu, và một file về thông tin số chỗ ngồi của phòng học. Đối với file đầu tiên, các cột liên quan tới thời gian, địa điểm đã có trong thời khóa biểu thật sự được loại bỏ, vì đây là thông tin mà đồ án này mong muốn tự tính ra. Sau khi bỏ những thông tin này, những dòng mà bản chất thuộc cùng một lớp (chỉ có Session no. là khác nhau) sẽ trở nên giống nhau, và có thể loại bỏ lặp."
   ]
  },
  {
   "cell_type": "code",
   "execution_count": 20,
   "metadata": {},
   "outputs": [
    {
     "name": "stdout",
     "output_type": "stream",
     "text": [
      "<class 'pandas.core.frame.DataFrame'>\n",
      "RangeIndex: 3187 entries, 0 to 3186\n",
      "Data columns (total 8 columns):\n",
      " #   Column              Non-Null Count  Dtype  \n",
      "---  ------              --------------  -----  \n",
      " 0   Faculty             3187 non-null   object \n",
      " 1   Class ID            3187 non-null   int64  \n",
      " 2   Course ID           3187 non-null   object \n",
      " 3   Course Name         3187 non-null   object \n",
      " 4   Credits             3187 non-null   int64  \n",
      " 5   Num. Students       3187 non-null   int64  \n",
      " 6   Num. Periods        3187 non-null   float64\n",
      " 7   Total Num. Periods  3187 non-null   float64\n",
      "dtypes: float64(2), int64(3), object(3)\n",
      "memory usage: 199.3+ KB\n"
     ]
    }
   ],
   "source": [
    "input_schedule = pd.read_csv('data/schedule_cleaned.csv')\n",
    "input_schedule.drop(columns=['Session no.', 'Day', 'Time', 'Start', 'End', 'Shift', 'Classroom'], inplace=True)\n",
    "input_schedule.info()"
   ]
  },
  {
   "cell_type": "code",
   "execution_count": 21,
   "metadata": {},
   "outputs": [
    {
     "data": {
      "text/html": [
       "<div>\n",
       "<style scoped>\n",
       "    .dataframe tbody tr th:only-of-type {\n",
       "        vertical-align: middle;\n",
       "    }\n",
       "\n",
       "    .dataframe tbody tr th {\n",
       "        vertical-align: top;\n",
       "    }\n",
       "\n",
       "    .dataframe thead th {\n",
       "        text-align: right;\n",
       "    }\n",
       "</style>\n",
       "<table border=\"1\" class=\"dataframe\">\n",
       "  <thead>\n",
       "    <tr style=\"text-align: right;\">\n",
       "      <th></th>\n",
       "      <th>Faculty</th>\n",
       "      <th>Class ID</th>\n",
       "      <th>Course ID</th>\n",
       "      <th>Course Name</th>\n",
       "      <th>Credits</th>\n",
       "      <th>Num. Students</th>\n",
       "      <th>Num. Periods</th>\n",
       "    </tr>\n",
       "  </thead>\n",
       "  <tbody>\n",
       "    <tr>\n",
       "      <th>0</th>\n",
       "      <td>TDDT</td>\n",
       "      <td>137978</td>\n",
       "      <td>AC2010</td>\n",
       "      <td>Programming Techniques</td>\n",
       "      <td>2</td>\n",
       "      <td>75</td>\n",
       "      <td>3</td>\n",
       "    </tr>\n",
       "    <tr>\n",
       "      <th>1</th>\n",
       "      <td>TDDT</td>\n",
       "      <td>137982</td>\n",
       "      <td>AC2020</td>\n",
       "      <td>Computer Graphic in 2D and 3D images</td>\n",
       "      <td>3</td>\n",
       "      <td>75</td>\n",
       "      <td>4</td>\n",
       "    </tr>\n",
       "    <tr>\n",
       "      <th>2</th>\n",
       "      <td>TDDT</td>\n",
       "      <td>137983</td>\n",
       "      <td>AC2040</td>\n",
       "      <td>Database</td>\n",
       "      <td>2</td>\n",
       "      <td>75</td>\n",
       "      <td>3</td>\n",
       "    </tr>\n",
       "    <tr>\n",
       "      <th>3</th>\n",
       "      <td>TDDT</td>\n",
       "      <td>137984</td>\n",
       "      <td>AC2050</td>\n",
       "      <td>Data Structure and Algorithm</td>\n",
       "      <td>2</td>\n",
       "      <td>75</td>\n",
       "      <td>3</td>\n",
       "    </tr>\n",
       "    <tr>\n",
       "      <th>4</th>\n",
       "      <td>TDDT</td>\n",
       "      <td>137987</td>\n",
       "      <td>AC3010</td>\n",
       "      <td>System Analysis and Design</td>\n",
       "      <td>2</td>\n",
       "      <td>40</td>\n",
       "      <td>3</td>\n",
       "    </tr>\n",
       "  </tbody>\n",
       "</table>\n",
       "</div>"
      ],
      "text/plain": [
       "  Faculty  Class ID Course ID                           Course Name  Credits  \\\n",
       "0    TDDT    137978    AC2010                Programming Techniques        2   \n",
       "1    TDDT    137982    AC2020  Computer Graphic in 2D and 3D images        3   \n",
       "2    TDDT    137983    AC2040                              Database        2   \n",
       "3    TDDT    137984    AC2050          Data Structure and Algorithm        2   \n",
       "4    TDDT    137987    AC3010            System Analysis and Design        2   \n",
       "\n",
       "   Num. Students  Num. Periods  \n",
       "0             75             3  \n",
       "1             75             4  \n",
       "2             75             3  \n",
       "3             75             3  \n",
       "4             40             3  "
      ]
     },
     "execution_count": 21,
     "metadata": {},
     "output_type": "execute_result"
    }
   ],
   "source": [
    "input_schedule['Num. Periods'] = input_schedule['Total Num. Periods']\n",
    "input_schedule.drop(columns=['Total Num. Periods'], inplace=True)\n",
    "input_schedule['Num. Periods'] = input_schedule['Num. Periods'].astype(int)\n",
    "input_schedule.head()"
   ]
  },
  {
   "cell_type": "code",
   "execution_count": 22,
   "metadata": {},
   "outputs": [
    {
     "data": {
      "text/plain": [
       "Class ID\n",
       "137978    1\n",
       "139131    1\n",
       "137639    1\n",
       "137613    1\n",
       "137634    1\n",
       "         ..\n",
       "136252    1\n",
       "137331    1\n",
       "136222    1\n",
       "136295    1\n",
       "138357    1\n",
       "Name: count, Length: 2904, dtype: int64"
      ]
     },
     "execution_count": 22,
     "metadata": {},
     "output_type": "execute_result"
    }
   ],
   "source": [
    "input_schedule.drop_duplicates(inplace=True)\n",
    "input_schedule['Class ID'].value_counts()"
   ]
  },
  {
   "cell_type": "code",
   "execution_count": 23,
   "metadata": {},
   "outputs": [
    {
     "data": {
      "text/plain": [
       "Faculty\n",
       "TCK         562\n",
       "TDDT        493\n",
       "KML         312\n",
       "TCNTT       295\n",
       "KCNHH       231\n",
       "VVLKT       192\n",
       "KNN         190\n",
       "KKTVQL      138\n",
       "KTTD        138\n",
       "KKHVCNVL    103\n",
       "VCNSHVTP     81\n",
       "KCNDMVTT     69\n",
       "KSPKT        50\n",
       "VKHVCNMT     38\n",
       "KGDQP        12\n",
       "Name: count, dtype: int64"
      ]
     },
     "execution_count": 23,
     "metadata": {},
     "output_type": "execute_result"
    }
   ],
   "source": [
    "input_schedule['Faculty'].value_counts()"
   ]
  },
  {
   "cell_type": "markdown",
   "metadata": {},
   "source": [
    "Ở đây, mỗi lớp học sẽ được phân cho một giảng viên nào đó của một trường/khoa/viện nào đó. Cách làm này hơi kì lạ, nhưng khó có thể có cách khác, vì thông tin này không thể lấy được ở nơi khác. Việc xây dựng những danh sách giáo viên này được cân nhắc bởi tỉ lệ lớp của trường/khoa/viện đó trong toàn bộ thời khóa biểu, cũng như là thông tin hạn chế trên thực tế."
   ]
  },
  {
   "cell_type": "code",
   "execution_count": 24,
   "metadata": {},
   "outputs": [],
   "source": [
    "list_profs_for_tck = ['PROF' + str(idx) for idx in range(0, 220)]\n",
    "list_profs_for_tddt = ['PROF' + str(idx) for idx in range(220, 420)]\n",
    "list_profs_for_kml = ['PROF' + str(idx) for idx in range(420, 460)]\n",
    "list_profs_for_tcntt = ['PROF' + str(idx) for idx in range(460, 580)]\n",
    "list_profs_for_kcnhh = ['PROF' + str(idx) for idx in range(580, 700)]\n",
    "list_profs_for_vvlkt = ['PROF' + str(idx) for idx in range(700, 760)]\n",
    "list_profs_for_knn = ['PROF' + str(idx) for idx in range(760, 800)]\n",
    "list_profs_for_kktvql = ['PROF' + str(idx) for idx in range(800, 850)]\n",
    "list_profs_for_kttd = ['PROF' + str(idx) for idx in range(850, 900)]\n",
    "list_profs_for_kkhvcnvl = ['PROF' + str(idx) for idx in range(900, 940)]\n",
    "list_profs_for_vcnshvtp = ['PROF' + str(idx) for idx in range(940, 980)]\n",
    "list_profs_for_kcndmvtt = ['PROF' + str(idx) for idx in range(980, 1020)]\n",
    "list_profs_for_kspkt = ['PROF' + str(idx) for idx in range(1020, 1050)]\n",
    "list_profs_for_vkhvcnmt = ['PROF' + str(idx) for idx in range(1050, 1080)]\n",
    "list_profs_for_kgdqp = ['PROF' + str(idx) for idx in range(1080, 1100)]\n",
    "\n",
    "dict_profs_for_faculty = {'TCK': list_profs_for_tck, 'TDDT': list_profs_for_tddt, 'KML': list_profs_for_kml,\n",
    "                          'TCNTT': list_profs_for_tcntt, 'KCNHH': list_profs_for_kcnhh, 'VVLKT': list_profs_for_vvlkt,\n",
    "                          'KNN': list_profs_for_knn, 'KKTVQL': list_profs_for_kktvql, 'KTTD': list_profs_for_kttd,\n",
    "                          'KKHVCNVL': list_profs_for_kkhvcnvl, 'VCNSHVTP': list_profs_for_vcnshvtp, 'KCNDMVTT': list_profs_for_kcndmvtt,\n",
    "                          'KSPKT': list_profs_for_kspkt, 'VKHVCNMT': list_profs_for_vkhvcnmt, 'KGDQP': list_profs_for_kgdqp}"
   ]
  },
  {
   "cell_type": "code",
   "execution_count": 25,
   "metadata": {},
   "outputs": [
    {
     "data": {
      "text/html": [
       "<div>\n",
       "<style scoped>\n",
       "    .dataframe tbody tr th:only-of-type {\n",
       "        vertical-align: middle;\n",
       "    }\n",
       "\n",
       "    .dataframe tbody tr th {\n",
       "        vertical-align: top;\n",
       "    }\n",
       "\n",
       "    .dataframe thead th {\n",
       "        text-align: right;\n",
       "    }\n",
       "</style>\n",
       "<table border=\"1\" class=\"dataframe\">\n",
       "  <thead>\n",
       "    <tr style=\"text-align: right;\">\n",
       "      <th></th>\n",
       "      <th>Faculty</th>\n",
       "      <th>Class ID</th>\n",
       "      <th>Course ID</th>\n",
       "      <th>Course Name</th>\n",
       "      <th>Credits</th>\n",
       "      <th>Num. Students</th>\n",
       "      <th>Num. Periods</th>\n",
       "      <th>Professor</th>\n",
       "    </tr>\n",
       "  </thead>\n",
       "  <tbody>\n",
       "    <tr>\n",
       "      <th>0</th>\n",
       "      <td>TDDT</td>\n",
       "      <td>137978</td>\n",
       "      <td>AC2010</td>\n",
       "      <td>Programming Techniques</td>\n",
       "      <td>2</td>\n",
       "      <td>75</td>\n",
       "      <td>3</td>\n",
       "      <td>PROF383</td>\n",
       "    </tr>\n",
       "    <tr>\n",
       "      <th>1</th>\n",
       "      <td>TDDT</td>\n",
       "      <td>137982</td>\n",
       "      <td>AC2020</td>\n",
       "      <td>Computer Graphic in 2D and 3D images</td>\n",
       "      <td>3</td>\n",
       "      <td>75</td>\n",
       "      <td>4</td>\n",
       "      <td>PROF248</td>\n",
       "    </tr>\n",
       "    <tr>\n",
       "      <th>2</th>\n",
       "      <td>TDDT</td>\n",
       "      <td>137983</td>\n",
       "      <td>AC2040</td>\n",
       "      <td>Database</td>\n",
       "      <td>2</td>\n",
       "      <td>75</td>\n",
       "      <td>3</td>\n",
       "      <td>PROF226</td>\n",
       "    </tr>\n",
       "    <tr>\n",
       "      <th>3</th>\n",
       "      <td>TDDT</td>\n",
       "      <td>137984</td>\n",
       "      <td>AC2050</td>\n",
       "      <td>Data Structure and Algorithm</td>\n",
       "      <td>2</td>\n",
       "      <td>75</td>\n",
       "      <td>3</td>\n",
       "      <td>PROF409</td>\n",
       "    </tr>\n",
       "    <tr>\n",
       "      <th>4</th>\n",
       "      <td>TDDT</td>\n",
       "      <td>137987</td>\n",
       "      <td>AC3010</td>\n",
       "      <td>System Analysis and Design</td>\n",
       "      <td>2</td>\n",
       "      <td>40</td>\n",
       "      <td>3</td>\n",
       "      <td>PROF290</td>\n",
       "    </tr>\n",
       "  </tbody>\n",
       "</table>\n",
       "</div>"
      ],
      "text/plain": [
       "  Faculty  Class ID Course ID                           Course Name  Credits  \\\n",
       "0    TDDT    137978    AC2010                Programming Techniques        2   \n",
       "1    TDDT    137982    AC2020  Computer Graphic in 2D and 3D images        3   \n",
       "2    TDDT    137983    AC2040                              Database        2   \n",
       "3    TDDT    137984    AC2050          Data Structure and Algorithm        2   \n",
       "4    TDDT    137987    AC3010            System Analysis and Design        2   \n",
       "\n",
       "   Num. Students  Num. Periods Professor  \n",
       "0             75             3   PROF383  \n",
       "1             75             4   PROF248  \n",
       "2             75             3   PROF226  \n",
       "3             75             3   PROF409  \n",
       "4             40             3   PROF290  "
      ]
     },
     "execution_count": 25,
     "metadata": {},
     "output_type": "execute_result"
    }
   ],
   "source": [
    "import random\n",
    "random.seed(42)\n",
    "\n",
    "input_schedule['Professor'] = input_schedule['Faculty'].map(dict_profs_for_faculty).apply(lambda x: random.choice(x))\n",
    "input_schedule.head()"
   ]
  },
  {
   "cell_type": "code",
   "execution_count": 26,
   "metadata": {},
   "outputs": [],
   "source": [
    "input_schedule.reset_index(drop=True, inplace=True)\n",
    "input_schedule.to_csv('data/all_courses.csv', index=True)"
   ]
  },
  {
   "cell_type": "markdown",
   "metadata": {},
   "source": [
    "Đối với file thứ hai, ở đây chỉ cần trích xuất ra thông tin về số lượng học sinh của lớp học. Tận dụng việc trên thực tế, những phòng học này đã được cấp cho các lớp học này, có thể sử dụng số lượng học sinh này là ước chừng của khả năng chứa của lớp học. Ở đây, khả năng chứa của phòng học được tính là số sinh viên lớn nhất mà phòng học này được sử dụng cho, nhân với 1.2, làm tròn lên số tròn chục gần nhất. Vì không có cách để có được thông tin về cơ sở vật chất của nhà trường, nên đây được đưa ra là một cách để đảm bảo có thể có đáp án."
   ]
  },
  {
   "cell_type": "code",
   "execution_count": 27,
   "metadata": {},
   "outputs": [
    {
     "name": "stdout",
     "output_type": "stream",
     "text": [
      "{'GĐ-B1': 350, 'D9-101': 260, 'D9-201': 240, 'TC-312': 240, 'D6-208': 220, 'D9-301': 220, 'D9-401': 210, 'D3-5-501': 200, 'D6-306': 200, 'D9-501': 190, 'TC-205': 190, 'TC-204': 180, 'D3-5-201': 180, 'D3-5-301': 180, 'TC-305': 180, 'TC-304': 180, 'D9-205': 180, 'D9-305': 170, 'D9-206': 170, 'D9-105': 170, 'D9-106': 170, 'D7-403': 160, 'D5-203': 150, 'D7-203': 150, 'D7-201': 150, 'D9-306': 150, 'D7-404': 150, 'TC-307': 150, 'D5-204': 150, 'D7-204': 140, 'D9-407': 120, 'D5-506': 120, 'D7-106': 120, 'D9-204': 120, 'D5-404': 120, 'D7-202': 120, 'D9-103': 120, 'D5-406': 120, 'D6-107': 120, 'TC-207': 120, 'D5-103': 120, 'D5-205': 120, 'D5-104': 120, 'D8-107': 120, 'D8-101': 120, 'D8-104': 120, 'D8-102': 110, 'D9-504': 110, 'D8-403': 110, 'D5-101': 110, 'D8-206': 110, 'TC-211': 110, 'D5-505': 110, 'D8-506': 110, 'TC-212': 110, 'D5-503': 110, 'D8-406': 110, 'D8-408': 110, 'TC-213': 110, 'TC-208': 110, 'D8-405': 110, 'D5-405': 100, 'D3-404': 100, 'D3-403': 100, 'D3-405': 100, 'D7-405': 100, 'D8-502': 100, 'D9-102': 100, 'D3-402': 100, 'D8-505': 100, 'D8-503': 100, 'D7-307': 100, 'D8-201': 100, 'D8-306': 100, 'D8-304': 100, 'D8-302': 100, 'D9-104': 100, 'TC-210': 100, 'D3-406': 100, 'D9-304': 100, 'D5-501': 100, 'D5-502': 100, 'D5-504': 100, 'D9-502': 100, 'D9-503': 100, 'D9-403': 100, 'D9-402': 100, 'D9-505': 100, 'D5-403': 100, 'D5-201': 100, 'D5-202': 100, 'D9-303': 100, 'D5-105': 100, 'D5-102': 100, 'D9-203': 100, 'D6-407': 100, 'D9-202': 100, 'D7-105': 100, 'TC-209': 100, 'D8-208': 100, 'D9-302': 90, 'D7-407': 90, 'D8-301': 80, 'D8-402': 80, 'D9-408': 80, 'D8-307': 80, 'D7-507': 80, 'D8-106': 80, 'B1-402': 80, 'D7-505': 80, 'D7-308': 80, 'D7-306': 80, 'D7-205': 80, 'D6-302': 70, 'D6-303': 70, 'D7-502': 60, 'D8-507': 60, 'D8-202': 60, 'D8-105': 60, 'D7-503': 60, 'D7-302': 60, 'D7-508': 60, 'D5-305': 60, 'D7-506': 60, 'D7-501': 60, 'D8-203': 60, 'D8-205': 60, 'D8-207': 60, 'D5-306': 60, 'B1-302': 60, 'B1-303': 60, 'D7-504': 50, 'D8-103': 50, 'D8-305': 50, 'D4-303': 50, 'D4-307': 50, 'D5-302': 50, 'D5-304': 50, 'D8-309': 50, 'D8-311': 50, 'D6-101': 50, 'D8-504': 50, 'D8-401': 50, 'D6-304 ': 50, 'D8-303': 50, 'D7-509': 50, 'D6-405': 50, 'D8-501': 50, 'D6-404': 50, 'D6-403': 50, 'D8-407': 50, 'D6-305': 50, 'D4-Lab': 50, 'D6-103': 50, 'D6-102': 50, 'D6-104': 50, 'D6-105': 50, 'D6-106': 50, 'D6-205': 50, 'D6-206': 50, 'D6-301': 50, 'D4-306': 50, 'D4-401': 50, 'D4-308': 50, 'D4-304': 50, 'D4-305': 50, 'D4-309': 50, 'D4-409': 40, 'D4-408': 40, 'D3-5-403': 40, 'D7-102': 40, 'D9-508': 40, 'D9-506': 40, 'D9-406': 40, 'D9-404': 40, 'D9-405': 40, 'D9-207': 40, 'D9-307': 40, 'D9-107': 40}\n"
     ]
    }
   ],
   "source": [
    "from math import ceil\n",
    "\n",
    "full_schedule = pd.read_csv('data/schedule_cleaned.csv')\n",
    "classroom_capacity = full_schedule.groupby('Classroom')['Num. Students'].max().sort_values(ascending=False).to_dict()\n",
    "extra_classroom_capacity = dict()\n",
    "\n",
    "def round_up_to_nearest_10(x):\n",
    "    return int(10 * ceil(float(x)/10))\n",
    "\n",
    "for k, v in classroom_capacity.items():\n",
    "    new_capacity = round_up_to_nearest_10(v * 1.2)\n",
    "    if new_capacity < 40:\n",
    "        new_capacity = 40\n",
    "    extra_classroom_capacity[k] = new_capacity\n",
    "\n",
    "print(extra_classroom_capacity)"
   ]
  },
  {
   "cell_type": "code",
   "execution_count": 28,
   "metadata": {},
   "outputs": [],
   "source": [
    "df = pd.DataFrame(list(extra_classroom_capacity.items()), columns=['Classroom', 'Capacity'])\n",
    "df.to_csv('data/all_classrooms.csv', index=True)"
   ]
  }
 ],
 "metadata": {
  "kernelspec": {
   "display_name": ".venv",
   "language": "python",
   "name": "python3"
  },
  "language_info": {
   "codemirror_mode": {
    "name": "ipython",
    "version": 3
   },
   "file_extension": ".py",
   "mimetype": "text/x-python",
   "name": "python",
   "nbconvert_exporter": "python",
   "pygments_lexer": "ipython3",
   "version": "3.10.9"
  }
 },
 "nbformat": 4,
 "nbformat_minor": 2
}
